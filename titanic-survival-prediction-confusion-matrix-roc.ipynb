{
 "cells": [
  {
   "cell_type": "code",
   "execution_count": 1,
   "id": "silent-resource",
   "metadata": {
    "_cell_guid": "b1076dfc-b9ad-4769-8c92-a6c4dae69d19",
    "_uuid": "8f2839f25d086af736a60e9eeb907d3b93b6e0e5",
    "execution": {
     "iopub.execute_input": "2021-07-01T12:06:14.919833Z",
     "iopub.status.busy": "2021-07-01T12:06:14.918662Z",
     "iopub.status.idle": "2021-07-01T12:06:14.933234Z",
     "shell.execute_reply": "2021-07-01T12:06:14.932244Z",
     "shell.execute_reply.started": "2021-07-01T12:01:49.172287Z"
    },
    "papermill": {
     "duration": 0.066992,
     "end_time": "2021-07-01T12:06:14.933526",
     "exception": false,
     "start_time": "2021-07-01T12:06:14.866534",
     "status": "completed"
    },
    "tags": []
   },
   "outputs": [
    {
     "name": "stdout",
     "output_type": "stream",
     "text": [
      "/kaggle/input/titanic/train.csv\n",
      "/kaggle/input/titanic/test.csv\n",
      "/kaggle/input/titanic/gender_submission.csv\n"
     ]
    }
   ],
   "source": [
    "# This Python 3 environment comes with many helpful analytics libraries installed\n",
    "# It is defined by the kaggle/python Docker image: https://github.com/kaggle/docker-python\n",
    "# For example, here's several helpful packages to load\n",
    "\n",
    "import numpy as np # linear algebra\n",
    "import pandas as pd # data processing, CSV file I/O (e.g. pd.read_csv)\n",
    "\n",
    "# Input data files are available in the read-only \"../input/\" directory\n",
    "# For example, running this (by clicking run or pressing Shift+Enter) will list all files under the input directory\n",
    "\n",
    "import os\n",
    "for dirname, _, filenames in os.walk('/kaggle/input'):\n",
    "    for filename in filenames:\n",
    "        print(os.path.join(dirname, filename))\n",
    "\n",
    "# You can write up to 20GB to the current directory (/kaggle/working/) that gets preserved as output when you create a version using \"Save & Run All\" \n",
    "# You can also write temporary files to /kaggle/temp/, but they won't be saved outside of the current session"
   ]
  },
  {
   "cell_type": "markdown",
   "id": "frequent-mississippi",
   "metadata": {
    "papermill": {
     "duration": 0.051389,
     "end_time": "2021-07-01T12:06:15.034520",
     "exception": false,
     "start_time": "2021-07-01T12:06:14.983131",
     "status": "completed"
    },
    "tags": []
   },
   "source": [
    "##### *Basic library imports*"
   ]
  },
  {
   "cell_type": "code",
   "execution_count": 2,
   "id": "comprehensive-statement",
   "metadata": {
    "execution": {
     "iopub.execute_input": "2021-07-01T12:06:15.139430Z",
     "iopub.status.busy": "2021-07-01T12:06:15.138738Z",
     "iopub.status.idle": "2021-07-01T12:06:16.095382Z",
     "shell.execute_reply": "2021-07-01T12:06:16.094470Z",
     "shell.execute_reply.started": "2021-07-01T12:01:49.191828Z"
    },
    "papermill": {
     "duration": 1.008928,
     "end_time": "2021-07-01T12:06:16.095531",
     "exception": false,
     "start_time": "2021-07-01T12:06:15.086603",
     "status": "completed"
    },
    "tags": []
   },
   "outputs": [],
   "source": [
    "import pandas as pd\n",
    "import numpy as np\n",
    "import matplotlib.pyplot as plt\n",
    "import seaborn as sns"
   ]
  },
  {
   "cell_type": "markdown",
   "id": "typical-federation",
   "metadata": {
    "papermill": {
     "duration": 0.049931,
     "end_time": "2021-07-01T12:06:16.194606",
     "exception": false,
     "start_time": "2021-07-01T12:06:16.144675",
     "status": "completed"
    },
    "tags": []
   },
   "source": [
    "### Train Data\n"
   ]
  },
  {
   "cell_type": "code",
   "execution_count": 3,
   "id": "optical-adoption",
   "metadata": {
    "execution": {
     "iopub.execute_input": "2021-07-01T12:06:16.298355Z",
     "iopub.status.busy": "2021-07-01T12:06:16.297565Z",
     "iopub.status.idle": "2021-07-01T12:06:16.353838Z",
     "shell.execute_reply": "2021-07-01T12:06:16.353262Z",
     "shell.execute_reply.started": "2021-07-01T12:01:49.570161Z"
    },
    "papermill": {
     "duration": 0.110066,
     "end_time": "2021-07-01T12:06:16.353983",
     "exception": false,
     "start_time": "2021-07-01T12:06:16.243917",
     "status": "completed"
    },
    "tags": []
   },
   "outputs": [
    {
     "data": {
      "text/html": [
       "<div>\n",
       "<style scoped>\n",
       "    .dataframe tbody tr th:only-of-type {\n",
       "        vertical-align: middle;\n",
       "    }\n",
       "\n",
       "    .dataframe tbody tr th {\n",
       "        vertical-align: top;\n",
       "    }\n",
       "\n",
       "    .dataframe thead th {\n",
       "        text-align: right;\n",
       "    }\n",
       "</style>\n",
       "<table border=\"1\" class=\"dataframe\">\n",
       "  <thead>\n",
       "    <tr style=\"text-align: right;\">\n",
       "      <th></th>\n",
       "      <th>PassengerId</th>\n",
       "      <th>Survived</th>\n",
       "      <th>Pclass</th>\n",
       "      <th>Name</th>\n",
       "      <th>Sex</th>\n",
       "      <th>Age</th>\n",
       "      <th>SibSp</th>\n",
       "      <th>Parch</th>\n",
       "      <th>Ticket</th>\n",
       "      <th>Fare</th>\n",
       "      <th>Cabin</th>\n",
       "      <th>Embarked</th>\n",
       "    </tr>\n",
       "  </thead>\n",
       "  <tbody>\n",
       "    <tr>\n",
       "      <th>0</th>\n",
       "      <td>1</td>\n",
       "      <td>0</td>\n",
       "      <td>3</td>\n",
       "      <td>Braund, Mr. Owen Harris</td>\n",
       "      <td>male</td>\n",
       "      <td>22.0</td>\n",
       "      <td>1</td>\n",
       "      <td>0</td>\n",
       "      <td>A/5 21171</td>\n",
       "      <td>7.2500</td>\n",
       "      <td>NaN</td>\n",
       "      <td>S</td>\n",
       "    </tr>\n",
       "    <tr>\n",
       "      <th>1</th>\n",
       "      <td>2</td>\n",
       "      <td>1</td>\n",
       "      <td>1</td>\n",
       "      <td>Cumings, Mrs. John Bradley (Florence Briggs Th...</td>\n",
       "      <td>female</td>\n",
       "      <td>38.0</td>\n",
       "      <td>1</td>\n",
       "      <td>0</td>\n",
       "      <td>PC 17599</td>\n",
       "      <td>71.2833</td>\n",
       "      <td>C85</td>\n",
       "      <td>C</td>\n",
       "    </tr>\n",
       "    <tr>\n",
       "      <th>2</th>\n",
       "      <td>3</td>\n",
       "      <td>1</td>\n",
       "      <td>3</td>\n",
       "      <td>Heikkinen, Miss. Laina</td>\n",
       "      <td>female</td>\n",
       "      <td>26.0</td>\n",
       "      <td>0</td>\n",
       "      <td>0</td>\n",
       "      <td>STON/O2. 3101282</td>\n",
       "      <td>7.9250</td>\n",
       "      <td>NaN</td>\n",
       "      <td>S</td>\n",
       "    </tr>\n",
       "    <tr>\n",
       "      <th>3</th>\n",
       "      <td>4</td>\n",
       "      <td>1</td>\n",
       "      <td>1</td>\n",
       "      <td>Futrelle, Mrs. Jacques Heath (Lily May Peel)</td>\n",
       "      <td>female</td>\n",
       "      <td>35.0</td>\n",
       "      <td>1</td>\n",
       "      <td>0</td>\n",
       "      <td>113803</td>\n",
       "      <td>53.1000</td>\n",
       "      <td>C123</td>\n",
       "      <td>S</td>\n",
       "    </tr>\n",
       "    <tr>\n",
       "      <th>4</th>\n",
       "      <td>5</td>\n",
       "      <td>0</td>\n",
       "      <td>3</td>\n",
       "      <td>Allen, Mr. William Henry</td>\n",
       "      <td>male</td>\n",
       "      <td>35.0</td>\n",
       "      <td>0</td>\n",
       "      <td>0</td>\n",
       "      <td>373450</td>\n",
       "      <td>8.0500</td>\n",
       "      <td>NaN</td>\n",
       "      <td>S</td>\n",
       "    </tr>\n",
       "    <tr>\n",
       "      <th>...</th>\n",
       "      <td>...</td>\n",
       "      <td>...</td>\n",
       "      <td>...</td>\n",
       "      <td>...</td>\n",
       "      <td>...</td>\n",
       "      <td>...</td>\n",
       "      <td>...</td>\n",
       "      <td>...</td>\n",
       "      <td>...</td>\n",
       "      <td>...</td>\n",
       "      <td>...</td>\n",
       "      <td>...</td>\n",
       "    </tr>\n",
       "    <tr>\n",
       "      <th>886</th>\n",
       "      <td>887</td>\n",
       "      <td>0</td>\n",
       "      <td>2</td>\n",
       "      <td>Montvila, Rev. Juozas</td>\n",
       "      <td>male</td>\n",
       "      <td>27.0</td>\n",
       "      <td>0</td>\n",
       "      <td>0</td>\n",
       "      <td>211536</td>\n",
       "      <td>13.0000</td>\n",
       "      <td>NaN</td>\n",
       "      <td>S</td>\n",
       "    </tr>\n",
       "    <tr>\n",
       "      <th>887</th>\n",
       "      <td>888</td>\n",
       "      <td>1</td>\n",
       "      <td>1</td>\n",
       "      <td>Graham, Miss. Margaret Edith</td>\n",
       "      <td>female</td>\n",
       "      <td>19.0</td>\n",
       "      <td>0</td>\n",
       "      <td>0</td>\n",
       "      <td>112053</td>\n",
       "      <td>30.0000</td>\n",
       "      <td>B42</td>\n",
       "      <td>S</td>\n",
       "    </tr>\n",
       "    <tr>\n",
       "      <th>888</th>\n",
       "      <td>889</td>\n",
       "      <td>0</td>\n",
       "      <td>3</td>\n",
       "      <td>Johnston, Miss. Catherine Helen \"Carrie\"</td>\n",
       "      <td>female</td>\n",
       "      <td>NaN</td>\n",
       "      <td>1</td>\n",
       "      <td>2</td>\n",
       "      <td>W./C. 6607</td>\n",
       "      <td>23.4500</td>\n",
       "      <td>NaN</td>\n",
       "      <td>S</td>\n",
       "    </tr>\n",
       "    <tr>\n",
       "      <th>889</th>\n",
       "      <td>890</td>\n",
       "      <td>1</td>\n",
       "      <td>1</td>\n",
       "      <td>Behr, Mr. Karl Howell</td>\n",
       "      <td>male</td>\n",
       "      <td>26.0</td>\n",
       "      <td>0</td>\n",
       "      <td>0</td>\n",
       "      <td>111369</td>\n",
       "      <td>30.0000</td>\n",
       "      <td>C148</td>\n",
       "      <td>C</td>\n",
       "    </tr>\n",
       "    <tr>\n",
       "      <th>890</th>\n",
       "      <td>891</td>\n",
       "      <td>0</td>\n",
       "      <td>3</td>\n",
       "      <td>Dooley, Mr. Patrick</td>\n",
       "      <td>male</td>\n",
       "      <td>32.0</td>\n",
       "      <td>0</td>\n",
       "      <td>0</td>\n",
       "      <td>370376</td>\n",
       "      <td>7.7500</td>\n",
       "      <td>NaN</td>\n",
       "      <td>Q</td>\n",
       "    </tr>\n",
       "  </tbody>\n",
       "</table>\n",
       "<p>891 rows × 12 columns</p>\n",
       "</div>"
      ],
      "text/plain": [
       "     PassengerId  Survived  Pclass  \\\n",
       "0              1         0       3   \n",
       "1              2         1       1   \n",
       "2              3         1       3   \n",
       "3              4         1       1   \n",
       "4              5         0       3   \n",
       "..           ...       ...     ...   \n",
       "886          887         0       2   \n",
       "887          888         1       1   \n",
       "888          889         0       3   \n",
       "889          890         1       1   \n",
       "890          891         0       3   \n",
       "\n",
       "                                                  Name     Sex   Age  SibSp  \\\n",
       "0                              Braund, Mr. Owen Harris    male  22.0      1   \n",
       "1    Cumings, Mrs. John Bradley (Florence Briggs Th...  female  38.0      1   \n",
       "2                               Heikkinen, Miss. Laina  female  26.0      0   \n",
       "3         Futrelle, Mrs. Jacques Heath (Lily May Peel)  female  35.0      1   \n",
       "4                             Allen, Mr. William Henry    male  35.0      0   \n",
       "..                                                 ...     ...   ...    ...   \n",
       "886                              Montvila, Rev. Juozas    male  27.0      0   \n",
       "887                       Graham, Miss. Margaret Edith  female  19.0      0   \n",
       "888           Johnston, Miss. Catherine Helen \"Carrie\"  female   NaN      1   \n",
       "889                              Behr, Mr. Karl Howell    male  26.0      0   \n",
       "890                                Dooley, Mr. Patrick    male  32.0      0   \n",
       "\n",
       "     Parch            Ticket     Fare Cabin Embarked  \n",
       "0        0         A/5 21171   7.2500   NaN        S  \n",
       "1        0          PC 17599  71.2833   C85        C  \n",
       "2        0  STON/O2. 3101282   7.9250   NaN        S  \n",
       "3        0            113803  53.1000  C123        S  \n",
       "4        0            373450   8.0500   NaN        S  \n",
       "..     ...               ...      ...   ...      ...  \n",
       "886      0            211536  13.0000   NaN        S  \n",
       "887      0            112053  30.0000   B42        S  \n",
       "888      2        W./C. 6607  23.4500   NaN        S  \n",
       "889      0            111369  30.0000  C148        C  \n",
       "890      0            370376   7.7500   NaN        Q  \n",
       "\n",
       "[891 rows x 12 columns]"
      ]
     },
     "execution_count": 3,
     "metadata": {},
     "output_type": "execute_result"
    }
   ],
   "source": [
    "train = pd.read_csv(\"/kaggle/input/titanic/train.csv\")\n",
    "train"
   ]
  },
  {
   "cell_type": "code",
   "execution_count": 4,
   "id": "herbal-concert",
   "metadata": {
    "execution": {
     "iopub.execute_input": "2021-07-01T12:06:16.458227Z",
     "iopub.status.busy": "2021-07-01T12:06:16.457327Z",
     "iopub.status.idle": "2021-07-01T12:06:16.461564Z",
     "shell.execute_reply": "2021-07-01T12:06:16.460995Z",
     "shell.execute_reply.started": "2021-07-01T12:01:49.613528Z"
    },
    "papermill": {
     "duration": 0.058798,
     "end_time": "2021-07-01T12:06:16.461702",
     "exception": false,
     "start_time": "2021-07-01T12:06:16.402904",
     "status": "completed"
    },
    "tags": []
   },
   "outputs": [
    {
     "data": {
      "text/plain": [
       "Index(['PassengerId', 'Survived', 'Pclass', 'Name', 'Sex', 'Age', 'SibSp',\n",
       "       'Parch', 'Ticket', 'Fare', 'Cabin', 'Embarked'],\n",
       "      dtype='object')"
      ]
     },
     "execution_count": 4,
     "metadata": {},
     "output_type": "execute_result"
    }
   ],
   "source": [
    "train.columns\n"
   ]
  },
  {
   "cell_type": "markdown",
   "id": "assured-vampire",
   "metadata": {
    "papermill": {
     "duration": 0.0485,
     "end_time": "2021-07-01T12:06:16.559442",
     "exception": false,
     "start_time": "2021-07-01T12:06:16.510942",
     "status": "completed"
    },
    "tags": []
   },
   "source": [
    "# Feature Extraction"
   ]
  },
  {
   "cell_type": "markdown",
   "id": "optical-grenada",
   "metadata": {
    "papermill": {
     "duration": 0.049908,
     "end_time": "2021-07-01T12:06:16.659828",
     "exception": false,
     "start_time": "2021-07-01T12:06:16.609920",
     "status": "completed"
    },
    "tags": []
   },
   "source": [
    "### drop duplicate/unimportant features. \n",
    "##### *Columns \"Ticket\" & \"Fare\" duplicate the information of \"Pclass\", so we can drop those 2 features*\n",
    "##### *Column \"Embarked\" does not provide any vital information to our target, Column \"Cabin\" has mostly missing values, so we can drop them too!*"
   ]
  },
  {
   "cell_type": "code",
   "execution_count": 5,
   "id": "distinct-petroleum",
   "metadata": {
    "execution": {
     "iopub.execute_input": "2021-07-01T12:06:16.772696Z",
     "iopub.status.busy": "2021-07-01T12:06:16.772051Z",
     "iopub.status.idle": "2021-07-01T12:06:16.799480Z",
     "shell.execute_reply": "2021-07-01T12:06:16.799994Z",
     "shell.execute_reply.started": "2021-07-01T12:01:49.622430Z"
    },
    "papermill": {
     "duration": 0.090124,
     "end_time": "2021-07-01T12:06:16.800184",
     "exception": false,
     "start_time": "2021-07-01T12:06:16.710060",
     "status": "completed"
    },
    "tags": []
   },
   "outputs": [
    {
     "data": {
      "text/html": [
       "<div>\n",
       "<style scoped>\n",
       "    .dataframe tbody tr th:only-of-type {\n",
       "        vertical-align: middle;\n",
       "    }\n",
       "\n",
       "    .dataframe tbody tr th {\n",
       "        vertical-align: top;\n",
       "    }\n",
       "\n",
       "    .dataframe thead th {\n",
       "        text-align: right;\n",
       "    }\n",
       "</style>\n",
       "<table border=\"1\" class=\"dataframe\">\n",
       "  <thead>\n",
       "    <tr style=\"text-align: right;\">\n",
       "      <th></th>\n",
       "      <th>PassengerId</th>\n",
       "      <th>Survived</th>\n",
       "      <th>Pclass</th>\n",
       "      <th>Sex</th>\n",
       "      <th>Age</th>\n",
       "      <th>SibSp</th>\n",
       "      <th>Parch</th>\n",
       "    </tr>\n",
       "  </thead>\n",
       "  <tbody>\n",
       "    <tr>\n",
       "      <th>0</th>\n",
       "      <td>1</td>\n",
       "      <td>0</td>\n",
       "      <td>3</td>\n",
       "      <td>male</td>\n",
       "      <td>22.0</td>\n",
       "      <td>1</td>\n",
       "      <td>0</td>\n",
       "    </tr>\n",
       "    <tr>\n",
       "      <th>1</th>\n",
       "      <td>2</td>\n",
       "      <td>1</td>\n",
       "      <td>1</td>\n",
       "      <td>female</td>\n",
       "      <td>38.0</td>\n",
       "      <td>1</td>\n",
       "      <td>0</td>\n",
       "    </tr>\n",
       "    <tr>\n",
       "      <th>2</th>\n",
       "      <td>3</td>\n",
       "      <td>1</td>\n",
       "      <td>3</td>\n",
       "      <td>female</td>\n",
       "      <td>26.0</td>\n",
       "      <td>0</td>\n",
       "      <td>0</td>\n",
       "    </tr>\n",
       "    <tr>\n",
       "      <th>3</th>\n",
       "      <td>4</td>\n",
       "      <td>1</td>\n",
       "      <td>1</td>\n",
       "      <td>female</td>\n",
       "      <td>35.0</td>\n",
       "      <td>1</td>\n",
       "      <td>0</td>\n",
       "    </tr>\n",
       "    <tr>\n",
       "      <th>4</th>\n",
       "      <td>5</td>\n",
       "      <td>0</td>\n",
       "      <td>3</td>\n",
       "      <td>male</td>\n",
       "      <td>35.0</td>\n",
       "      <td>0</td>\n",
       "      <td>0</td>\n",
       "    </tr>\n",
       "    <tr>\n",
       "      <th>...</th>\n",
       "      <td>...</td>\n",
       "      <td>...</td>\n",
       "      <td>...</td>\n",
       "      <td>...</td>\n",
       "      <td>...</td>\n",
       "      <td>...</td>\n",
       "      <td>...</td>\n",
       "    </tr>\n",
       "    <tr>\n",
       "      <th>886</th>\n",
       "      <td>887</td>\n",
       "      <td>0</td>\n",
       "      <td>2</td>\n",
       "      <td>male</td>\n",
       "      <td>27.0</td>\n",
       "      <td>0</td>\n",
       "      <td>0</td>\n",
       "    </tr>\n",
       "    <tr>\n",
       "      <th>887</th>\n",
       "      <td>888</td>\n",
       "      <td>1</td>\n",
       "      <td>1</td>\n",
       "      <td>female</td>\n",
       "      <td>19.0</td>\n",
       "      <td>0</td>\n",
       "      <td>0</td>\n",
       "    </tr>\n",
       "    <tr>\n",
       "      <th>888</th>\n",
       "      <td>889</td>\n",
       "      <td>0</td>\n",
       "      <td>3</td>\n",
       "      <td>female</td>\n",
       "      <td>NaN</td>\n",
       "      <td>1</td>\n",
       "      <td>2</td>\n",
       "    </tr>\n",
       "    <tr>\n",
       "      <th>889</th>\n",
       "      <td>890</td>\n",
       "      <td>1</td>\n",
       "      <td>1</td>\n",
       "      <td>male</td>\n",
       "      <td>26.0</td>\n",
       "      <td>0</td>\n",
       "      <td>0</td>\n",
       "    </tr>\n",
       "    <tr>\n",
       "      <th>890</th>\n",
       "      <td>891</td>\n",
       "      <td>0</td>\n",
       "      <td>3</td>\n",
       "      <td>male</td>\n",
       "      <td>32.0</td>\n",
       "      <td>0</td>\n",
       "      <td>0</td>\n",
       "    </tr>\n",
       "  </tbody>\n",
       "</table>\n",
       "<p>891 rows × 7 columns</p>\n",
       "</div>"
      ],
      "text/plain": [
       "     PassengerId  Survived  Pclass     Sex   Age  SibSp  Parch\n",
       "0              1         0       3    male  22.0      1      0\n",
       "1              2         1       1  female  38.0      1      0\n",
       "2              3         1       3  female  26.0      0      0\n",
       "3              4         1       1  female  35.0      1      0\n",
       "4              5         0       3    male  35.0      0      0\n",
       "..           ...       ...     ...     ...   ...    ...    ...\n",
       "886          887         0       2    male  27.0      0      0\n",
       "887          888         1       1  female  19.0      0      0\n",
       "888          889         0       3  female   NaN      1      2\n",
       "889          890         1       1    male  26.0      0      0\n",
       "890          891         0       3    male  32.0      0      0\n",
       "\n",
       "[891 rows x 7 columns]"
      ]
     },
     "execution_count": 5,
     "metadata": {},
     "output_type": "execute_result"
    }
   ],
   "source": [
    "train = train.drop([\"Name\", \"Ticket\", \"Fare\", \"Embarked\", \"Cabin\"], axis=1)\n",
    "train"
   ]
  },
  {
   "cell_type": "markdown",
   "id": "eight-opinion",
   "metadata": {
    "papermill": {
     "duration": 0.066536,
     "end_time": "2021-07-01T12:06:16.917197",
     "exception": false,
     "start_time": "2021-07-01T12:06:16.850661",
     "status": "completed"
    },
    "tags": []
   },
   "source": [
    "# Train data cleaning & preprocessing"
   ]
  },
  {
   "cell_type": "markdown",
   "id": "progressive-newspaper",
   "metadata": {
    "papermill": {
     "duration": 0.060413,
     "end_time": "2021-07-01T12:06:17.027833",
     "exception": false,
     "start_time": "2021-07-01T12:06:16.967420",
     "status": "completed"
    },
    "tags": []
   },
   "source": [
    "### check for Null values"
   ]
  },
  {
   "cell_type": "code",
   "execution_count": 6,
   "id": "packed-supply",
   "metadata": {
    "execution": {
     "iopub.execute_input": "2021-07-01T12:06:17.144603Z",
     "iopub.status.busy": "2021-07-01T12:06:17.143920Z",
     "iopub.status.idle": "2021-07-01T12:06:17.153894Z",
     "shell.execute_reply": "2021-07-01T12:06:17.154423Z",
     "shell.execute_reply.started": "2021-07-01T12:01:49.650788Z"
    },
    "papermill": {
     "duration": 0.064506,
     "end_time": "2021-07-01T12:06:17.154599",
     "exception": false,
     "start_time": "2021-07-01T12:06:17.090093",
     "status": "completed"
    },
    "tags": []
   },
   "outputs": [
    {
     "data": {
      "text/plain": [
       "PassengerId      0\n",
       "Survived         0\n",
       "Pclass           0\n",
       "Sex              0\n",
       "Age            177\n",
       "SibSp            0\n",
       "Parch            0\n",
       "dtype: int64"
      ]
     },
     "execution_count": 6,
     "metadata": {},
     "output_type": "execute_result"
    }
   ],
   "source": [
    "train.isnull().sum()"
   ]
  },
  {
   "cell_type": "markdown",
   "id": "industrial-nicaragua",
   "metadata": {
    "papermill": {
     "duration": 0.050775,
     "end_time": "2021-07-01T12:06:17.258141",
     "exception": false,
     "start_time": "2021-07-01T12:06:17.207366",
     "status": "completed"
    },
    "tags": []
   },
   "source": [
    "### fill null values in Age \n",
    "##### *calc avg age of men, women and fill in the null values*"
   ]
  },
  {
   "cell_type": "code",
   "execution_count": 7,
   "id": "piano-attribute",
   "metadata": {
    "execution": {
     "iopub.execute_input": "2021-07-01T12:06:17.362602Z",
     "iopub.status.busy": "2021-07-01T12:06:17.361948Z",
     "iopub.status.idle": "2021-07-01T12:06:17.376695Z",
     "shell.execute_reply": "2021-07-01T12:06:17.377460Z",
     "shell.execute_reply.started": "2021-07-01T12:01:49.669859Z"
    },
    "papermill": {
     "duration": 0.069081,
     "end_time": "2021-07-01T12:06:17.377698",
     "exception": false,
     "start_time": "2021-07-01T12:06:17.308617",
     "status": "completed"
    },
    "tags": []
   },
   "outputs": [
    {
     "data": {
      "text/plain": [
       "1      38\n",
       "2      26\n",
       "3      35\n",
       "8      27\n",
       "9      14\n",
       "       ..\n",
       "880    25\n",
       "882    22\n",
       "885    39\n",
       "887    19\n",
       "888    27\n",
       "Name: Age, Length: 314, dtype: int64"
      ]
     },
     "execution_count": 7,
     "metadata": {},
     "output_type": "execute_result"
    }
   ],
   "source": [
    "female = (train[\"Sex\"] == \"female\")\n",
    "female.sum()\n",
    "avg_age_female = (train[female][\"Age\"].mean())\n",
    "round(avg_age_female,1) \n",
    "train_female = (train[female][\"Age\"]).fillna(value=avg_age_female)\n",
    "train_female.astype('int')"
   ]
  },
  {
   "cell_type": "code",
   "execution_count": 8,
   "id": "smoking-tyler",
   "metadata": {
    "execution": {
     "iopub.execute_input": "2021-07-01T12:06:17.488144Z",
     "iopub.status.busy": "2021-07-01T12:06:17.487078Z",
     "iopub.status.idle": "2021-07-01T12:06:17.498800Z",
     "shell.execute_reply": "2021-07-01T12:06:17.499392Z",
     "shell.execute_reply.started": "2021-07-01T12:01:49.694826Z"
    },
    "papermill": {
     "duration": 0.065729,
     "end_time": "2021-07-01T12:06:17.499572",
     "exception": false,
     "start_time": "2021-07-01T12:06:17.433843",
     "status": "completed"
    },
    "tags": []
   },
   "outputs": [
    {
     "data": {
      "text/plain": [
       "0      22\n",
       "4      35\n",
       "5      30\n",
       "6      54\n",
       "7       2\n",
       "       ..\n",
       "883    28\n",
       "884    25\n",
       "886    27\n",
       "889    26\n",
       "890    32\n",
       "Name: Age, Length: 577, dtype: int64"
      ]
     },
     "execution_count": 8,
     "metadata": {},
     "output_type": "execute_result"
    }
   ],
   "source": [
    "male = (train[\"Sex\"] == \"male\")\n",
    "male.sum()\n",
    "avg_age_male = (train[male][\"Age\"].mean())\n",
    "round(avg_age_male,1) \n",
    "train_male = (train[male][\"Age\"]).fillna(value=avg_age_male)\n",
    "train_male.astype('int')"
   ]
  },
  {
   "cell_type": "markdown",
   "id": "resident-separate",
   "metadata": {
    "papermill": {
     "duration": 0.050095,
     "end_time": "2021-07-01T12:06:17.601971",
     "exception": false,
     "start_time": "2021-07-01T12:06:17.551876",
     "status": "completed"
    },
    "tags": []
   },
   "source": [
    "##### *concat male, female in Age column*"
   ]
  },
  {
   "cell_type": "code",
   "execution_count": 9,
   "id": "postal-budget",
   "metadata": {
    "execution": {
     "iopub.execute_input": "2021-07-01T12:06:17.708503Z",
     "iopub.status.busy": "2021-07-01T12:06:17.707508Z",
     "iopub.status.idle": "2021-07-01T12:06:17.729115Z",
     "shell.execute_reply": "2021-07-01T12:06:17.729693Z",
     "shell.execute_reply.started": "2021-07-01T12:01:49.715309Z"
    },
    "papermill": {
     "duration": 0.077273,
     "end_time": "2021-07-01T12:06:17.729891",
     "exception": false,
     "start_time": "2021-07-01T12:06:17.652618",
     "status": "completed"
    },
    "tags": []
   },
   "outputs": [
    {
     "data": {
      "text/html": [
       "<div>\n",
       "<style scoped>\n",
       "    .dataframe tbody tr th:only-of-type {\n",
       "        vertical-align: middle;\n",
       "    }\n",
       "\n",
       "    .dataframe tbody tr th {\n",
       "        vertical-align: top;\n",
       "    }\n",
       "\n",
       "    .dataframe thead th {\n",
       "        text-align: right;\n",
       "    }\n",
       "</style>\n",
       "<table border=\"1\" class=\"dataframe\">\n",
       "  <thead>\n",
       "    <tr style=\"text-align: right;\">\n",
       "      <th></th>\n",
       "      <th>PassengerId</th>\n",
       "      <th>Survived</th>\n",
       "      <th>Pclass</th>\n",
       "      <th>Sex</th>\n",
       "      <th>Age</th>\n",
       "      <th>SibSp</th>\n",
       "      <th>Parch</th>\n",
       "    </tr>\n",
       "  </thead>\n",
       "  <tbody>\n",
       "    <tr>\n",
       "      <th>0</th>\n",
       "      <td>1</td>\n",
       "      <td>0</td>\n",
       "      <td>3</td>\n",
       "      <td>male</td>\n",
       "      <td>22</td>\n",
       "      <td>1</td>\n",
       "      <td>0</td>\n",
       "    </tr>\n",
       "    <tr>\n",
       "      <th>1</th>\n",
       "      <td>2</td>\n",
       "      <td>1</td>\n",
       "      <td>1</td>\n",
       "      <td>female</td>\n",
       "      <td>38</td>\n",
       "      <td>1</td>\n",
       "      <td>0</td>\n",
       "    </tr>\n",
       "    <tr>\n",
       "      <th>2</th>\n",
       "      <td>3</td>\n",
       "      <td>1</td>\n",
       "      <td>3</td>\n",
       "      <td>female</td>\n",
       "      <td>26</td>\n",
       "      <td>0</td>\n",
       "      <td>0</td>\n",
       "    </tr>\n",
       "    <tr>\n",
       "      <th>3</th>\n",
       "      <td>4</td>\n",
       "      <td>1</td>\n",
       "      <td>1</td>\n",
       "      <td>female</td>\n",
       "      <td>35</td>\n",
       "      <td>1</td>\n",
       "      <td>0</td>\n",
       "    </tr>\n",
       "    <tr>\n",
       "      <th>4</th>\n",
       "      <td>5</td>\n",
       "      <td>0</td>\n",
       "      <td>3</td>\n",
       "      <td>male</td>\n",
       "      <td>35</td>\n",
       "      <td>0</td>\n",
       "      <td>0</td>\n",
       "    </tr>\n",
       "    <tr>\n",
       "      <th>...</th>\n",
       "      <td>...</td>\n",
       "      <td>...</td>\n",
       "      <td>...</td>\n",
       "      <td>...</td>\n",
       "      <td>...</td>\n",
       "      <td>...</td>\n",
       "      <td>...</td>\n",
       "    </tr>\n",
       "    <tr>\n",
       "      <th>886</th>\n",
       "      <td>887</td>\n",
       "      <td>0</td>\n",
       "      <td>2</td>\n",
       "      <td>male</td>\n",
       "      <td>27</td>\n",
       "      <td>0</td>\n",
       "      <td>0</td>\n",
       "    </tr>\n",
       "    <tr>\n",
       "      <th>887</th>\n",
       "      <td>888</td>\n",
       "      <td>1</td>\n",
       "      <td>1</td>\n",
       "      <td>female</td>\n",
       "      <td>19</td>\n",
       "      <td>0</td>\n",
       "      <td>0</td>\n",
       "    </tr>\n",
       "    <tr>\n",
       "      <th>888</th>\n",
       "      <td>889</td>\n",
       "      <td>0</td>\n",
       "      <td>3</td>\n",
       "      <td>female</td>\n",
       "      <td>27</td>\n",
       "      <td>1</td>\n",
       "      <td>2</td>\n",
       "    </tr>\n",
       "    <tr>\n",
       "      <th>889</th>\n",
       "      <td>890</td>\n",
       "      <td>1</td>\n",
       "      <td>1</td>\n",
       "      <td>male</td>\n",
       "      <td>26</td>\n",
       "      <td>0</td>\n",
       "      <td>0</td>\n",
       "    </tr>\n",
       "    <tr>\n",
       "      <th>890</th>\n",
       "      <td>891</td>\n",
       "      <td>0</td>\n",
       "      <td>3</td>\n",
       "      <td>male</td>\n",
       "      <td>32</td>\n",
       "      <td>0</td>\n",
       "      <td>0</td>\n",
       "    </tr>\n",
       "  </tbody>\n",
       "</table>\n",
       "<p>891 rows × 7 columns</p>\n",
       "</div>"
      ],
      "text/plain": [
       "     PassengerId  Survived  Pclass     Sex  Age  SibSp  Parch\n",
       "0              1         0       3    male   22      1      0\n",
       "1              2         1       1  female   38      1      0\n",
       "2              3         1       3  female   26      0      0\n",
       "3              4         1       1  female   35      1      0\n",
       "4              5         0       3    male   35      0      0\n",
       "..           ...       ...     ...     ...  ...    ...    ...\n",
       "886          887         0       2    male   27      0      0\n",
       "887          888         1       1  female   19      0      0\n",
       "888          889         0       3  female   27      1      2\n",
       "889          890         1       1    male   26      0      0\n",
       "890          891         0       3    male   32      0      0\n",
       "\n",
       "[891 rows x 7 columns]"
      ]
     },
     "execution_count": 9,
     "metadata": {},
     "output_type": "execute_result"
    }
   ],
   "source": [
    "train[\"Age\"] = pd.concat([train_female, train_male])\n",
    "train[\"Age\"] = train[\"Age\"].astype('int')\n",
    "train"
   ]
  },
  {
   "cell_type": "code",
   "execution_count": 10,
   "id": "circular-harrison",
   "metadata": {
    "execution": {
     "iopub.execute_input": "2021-07-01T12:06:17.843849Z",
     "iopub.status.busy": "2021-07-01T12:06:17.842866Z",
     "iopub.status.idle": "2021-07-01T12:06:17.852932Z",
     "shell.execute_reply": "2021-07-01T12:06:17.852407Z",
     "shell.execute_reply.started": "2021-07-01T12:01:49.739987Z"
    },
    "papermill": {
     "duration": 0.06973,
     "end_time": "2021-07-01T12:06:17.853077",
     "exception": false,
     "start_time": "2021-07-01T12:06:17.783347",
     "status": "completed"
    },
    "tags": []
   },
   "outputs": [
    {
     "data": {
      "text/plain": [
       "PassengerId    0\n",
       "Survived       0\n",
       "Pclass         0\n",
       "Sex            0\n",
       "Age            0\n",
       "SibSp          0\n",
       "Parch          0\n",
       "dtype: int64"
      ]
     },
     "execution_count": 10,
     "metadata": {},
     "output_type": "execute_result"
    }
   ],
   "source": [
    "train.isnull().sum()"
   ]
  },
  {
   "cell_type": "markdown",
   "id": "destroyed-glossary",
   "metadata": {
    "papermill": {
     "duration": 0.055035,
     "end_time": "2021-07-01T12:06:17.964996",
     "exception": false,
     "start_time": "2021-07-01T12:06:17.909961",
     "status": "completed"
    },
    "tags": []
   },
   "source": [
    "# Exploratory Data Analysis"
   ]
  },
  {
   "cell_type": "markdown",
   "id": "opposed-effects",
   "metadata": {
    "papermill": {
     "duration": 0.051687,
     "end_time": "2021-07-01T12:06:18.070262",
     "exception": false,
     "start_time": "2021-07-01T12:06:18.018575",
     "status": "completed"
    },
    "tags": []
   },
   "source": [
    "##### *Pairwise relationships in train data*"
   ]
  },
  {
   "cell_type": "code",
   "execution_count": 11,
   "id": "demanding-peripheral",
   "metadata": {
    "execution": {
     "iopub.execute_input": "2021-07-01T12:06:18.182346Z",
     "iopub.status.busy": "2021-07-01T12:06:18.181596Z",
     "iopub.status.idle": "2021-07-01T12:06:25.241105Z",
     "shell.execute_reply": "2021-07-01T12:06:25.241621Z",
     "shell.execute_reply.started": "2021-07-01T12:01:49.751395Z"
    },
    "papermill": {
     "duration": 7.119164,
     "end_time": "2021-07-01T12:06:25.241808",
     "exception": false,
     "start_time": "2021-07-01T12:06:18.122644",
     "status": "completed"
    },
    "tags": []
   },
   "outputs": [
    {
     "data": {
      "text/plain": [
       "<seaborn.axisgrid.PairGrid at 0x7fefa69d8510>"
      ]
     },
     "execution_count": 11,
     "metadata": {},
     "output_type": "execute_result"
    },
    {
     "data": {
      "image/png": "[encoded data removed]",
      "text/plain": [
       "<Figure size 951.875x900 with 30 Axes>"
      ]
     },
     "metadata": {
      "needs_background": "light"
     },
     "output_type": "display_data"
    }
   ],
   "source": [
    "sns.pairplot(train, hue = \"Survived\", palette = 'husl')"
   ]
  },
  {
   "cell_type": "code",
   "execution_count": 12,
   "id": "british-basin",
   "metadata": {
    "execution": {
     "iopub.execute_input": "2021-07-01T12:06:25.363947Z",
     "iopub.status.busy": "2021-07-01T12:06:25.362996Z",
     "iopub.status.idle": "2021-07-01T12:06:25.602793Z",
     "shell.execute_reply": "2021-07-01T12:06:25.603270Z",
     "shell.execute_reply.started": "2021-07-01T12:01:57.070891Z"
    },
    "papermill": {
     "duration": 0.302166,
     "end_time": "2021-07-01T12:06:25.603451",
     "exception": false,
     "start_time": "2021-07-01T12:06:25.301285",
     "status": "completed"
    },
    "tags": []
   },
   "outputs": [
    {
     "data": {
      "text/plain": [
       "<AxesSubplot:xlabel='Survived', ylabel='Count'>"
      ]
     },
     "execution_count": 12,
     "metadata": {},
     "output_type": "execute_result"
    },
    {
     "data": {
      "image/png": "[encoded data removed]",
      "text/plain": [
       "<Figure size 432x288 with 1 Axes>"
      ]
     },
     "metadata": {
      "needs_background": "light"
     },
     "output_type": "display_data"
    }
   ],
   "source": [
    "sns.histplot(data=train, x=\"Survived\", hue = \"Survived\", palette = 'husl')"
   ]
  },
  {
   "cell_type": "code",
   "execution_count": 13,
   "id": "african-industry",
   "metadata": {
    "execution": {
     "iopub.execute_input": "2021-07-01T12:06:25.726518Z",
     "iopub.status.busy": "2021-07-01T12:06:25.725887Z",
     "iopub.status.idle": "2021-07-01T12:06:26.240978Z",
     "shell.execute_reply": "2021-07-01T12:06:26.241425Z",
     "shell.execute_reply.started": "2021-07-01T12:01:57.305866Z"
    },
    "papermill": {
     "duration": 0.578573,
     "end_time": "2021-07-01T12:06:26.241595",
     "exception": false,
     "start_time": "2021-07-01T12:06:25.663022",
     "status": "completed"
    },
    "tags": []
   },
   "outputs": [
    {
     "data": {
      "text/plain": [
       "<AxesSubplot:xlabel='Survived', ylabel='Age'>"
      ]
     },
     "execution_count": 13,
     "metadata": {},
     "output_type": "execute_result"
    },
    {
     "data": {
      "image/png": "[encoded data removed]",
      "text/plain": [
       "<Figure size 432x288 with 3 Axes>"
      ]
     },
     "metadata": {
      "needs_background": "light"
     },
     "output_type": "display_data"
    }
   ],
   "source": [
    "sns.histplot(data=train, y=\"Age\", x=\"Survived\", hue = \"Survived\", cbar=True, palette = 'husl')"
   ]
  },
  {
   "cell_type": "code",
   "execution_count": 14,
   "id": "quarterly-usage",
   "metadata": {
    "execution": {
     "iopub.execute_input": "2021-07-01T12:06:26.366963Z",
     "iopub.status.busy": "2021-07-01T12:06:26.366228Z",
     "iopub.status.idle": "2021-07-01T12:06:26.700090Z",
     "shell.execute_reply": "2021-07-01T12:06:26.699374Z",
     "shell.execute_reply.started": "2021-07-01T12:01:57.845857Z"
    },
    "papermill": {
     "duration": 0.397447,
     "end_time": "2021-07-01T12:06:26.700241",
     "exception": false,
     "start_time": "2021-07-01T12:06:26.302794",
     "status": "completed"
    },
    "tags": []
   },
   "outputs": [
    {
     "data": {
      "text/plain": [
       "<AxesSubplot:xlabel='Survived', ylabel='Sex'>"
      ]
     },
     "execution_count": 14,
     "metadata": {},
     "output_type": "execute_result"
    },
    {
     "data": {
      "image/png": "[encoded data removed]",
      "text/plain": [
       "<Figure size 432x288 with 3 Axes>"
      ]
     },
     "metadata": {
      "needs_background": "light"
     },
     "output_type": "display_data"
    }
   ],
   "source": [
    "sns.histplot(data=train, y=\"Sex\", x=\"Survived\", hue = \"Survived\", cbar=True, palette = 'husl')"
   ]
  },
  {
   "cell_type": "code",
   "execution_count": 15,
   "id": "wired-coverage",
   "metadata": {
    "execution": {
     "iopub.execute_input": "2021-07-01T12:06:26.856493Z",
     "iopub.status.busy": "2021-07-01T12:06:26.855446Z",
     "iopub.status.idle": "2021-07-01T12:06:27.260217Z",
     "shell.execute_reply": "2021-07-01T12:06:27.259685Z",
     "shell.execute_reply.started": "2021-07-01T12:01:58.211495Z"
    },
    "papermill": {
     "duration": 0.495789,
     "end_time": "2021-07-01T12:06:27.260362",
     "exception": false,
     "start_time": "2021-07-01T12:06:26.764573",
     "status": "completed"
    },
    "tags": []
   },
   "outputs": [
    {
     "data": {
      "text/plain": [
       "<AxesSubplot:xlabel='Survived', ylabel='SibSp'>"
      ]
     },
     "execution_count": 15,
     "metadata": {},
     "output_type": "execute_result"
    },
    {
     "data": {
      "image/png": "[encoded data removed]",
      "text/plain": [
       "<Figure size 432x288 with 3 Axes>"
      ]
     },
     "metadata": {
      "needs_background": "light"
     },
     "output_type": "display_data"
    }
   ],
   "source": [
    "sns.histplot(data=train, y=\"SibSp\", x=\"Survived\", hue = \"Survived\", cbar=True, palette = 'husl')"
   ]
  },
  {
   "cell_type": "code",
   "execution_count": 16,
   "id": "structured-minnesota",
   "metadata": {
    "execution": {
     "iopub.execute_input": "2021-07-01T12:06:27.395039Z",
     "iopub.status.busy": "2021-07-01T12:06:27.394360Z",
     "iopub.status.idle": "2021-07-01T12:06:27.776978Z",
     "shell.execute_reply": "2021-07-01T12:06:27.776280Z",
     "shell.execute_reply.started": "2021-07-01T12:01:58.638659Z"
    },
    "papermill": {
     "duration": 0.454202,
     "end_time": "2021-07-01T12:06:27.777120",
     "exception": false,
     "start_time": "2021-07-01T12:06:27.322918",
     "status": "completed"
    },
    "tags": []
   },
   "outputs": [
    {
     "data": {
      "text/plain": [
       "<AxesSubplot:xlabel='Pclass', ylabel='Survived'>"
      ]
     },
     "execution_count": 16,
     "metadata": {},
     "output_type": "execute_result"
    },
    {
     "data": {
      "image/png": "[encoded data removed]",
      "text/plain": [
       "<Figure size 432x288 with 3 Axes>"
      ]
     },
     "metadata": {
      "needs_background": "light"
     },
     "output_type": "display_data"
    }
   ],
   "source": [
    "sns.histplot(data=train, x=\"Pclass\", y=\"Survived\", hue = \"Survived\", cbar=True, palette = 'husl')"
   ]
  },
  {
   "cell_type": "markdown",
   "id": "subtle-market",
   "metadata": {
    "papermill": {
     "duration": 0.066874,
     "end_time": "2021-07-01T12:06:27.908960",
     "exception": false,
     "start_time": "2021-07-01T12:06:27.842086",
     "status": "completed"
    },
    "tags": []
   },
   "source": [
    "### Encoding categorical features on train data"
   ]
  },
  {
   "cell_type": "code",
   "execution_count": 17,
   "id": "mineral-adobe",
   "metadata": {
    "execution": {
     "iopub.execute_input": "2021-07-01T12:06:28.050461Z",
     "iopub.status.busy": "2021-07-01T12:06:28.049138Z",
     "iopub.status.idle": "2021-07-01T12:06:28.064729Z",
     "shell.execute_reply": "2021-07-01T12:06:28.064087Z",
     "shell.execute_reply.started": "2021-07-01T12:01:59.013440Z"
    },
    "papermill": {
     "duration": 0.090386,
     "end_time": "2021-07-01T12:06:28.064884",
     "exception": false,
     "start_time": "2021-07-01T12:06:27.974498",
     "status": "completed"
    },
    "tags": []
   },
   "outputs": [
    {
     "data": {
      "text/html": [
       "<div>\n",
       "<style scoped>\n",
       "    .dataframe tbody tr th:only-of-type {\n",
       "        vertical-align: middle;\n",
       "    }\n",
       "\n",
       "    .dataframe tbody tr th {\n",
       "        vertical-align: top;\n",
       "    }\n",
       "\n",
       "    .dataframe thead th {\n",
       "        text-align: right;\n",
       "    }\n",
       "</style>\n",
       "<table border=\"1\" class=\"dataframe\">\n",
       "  <thead>\n",
       "    <tr style=\"text-align: right;\">\n",
       "      <th></th>\n",
       "      <th>PassengerId</th>\n",
       "      <th>Survived</th>\n",
       "      <th>Pclass</th>\n",
       "      <th>Age</th>\n",
       "      <th>SibSp</th>\n",
       "      <th>Parch</th>\n",
       "      <th>Sex_female</th>\n",
       "      <th>Sex_male</th>\n",
       "    </tr>\n",
       "  </thead>\n",
       "  <tbody>\n",
       "    <tr>\n",
       "      <th>0</th>\n",
       "      <td>1</td>\n",
       "      <td>0</td>\n",
       "      <td>3</td>\n",
       "      <td>22</td>\n",
       "      <td>1</td>\n",
       "      <td>0</td>\n",
       "      <td>0</td>\n",
       "      <td>1</td>\n",
       "    </tr>\n",
       "    <tr>\n",
       "      <th>1</th>\n",
       "      <td>2</td>\n",
       "      <td>1</td>\n",
       "      <td>1</td>\n",
       "      <td>38</td>\n",
       "      <td>1</td>\n",
       "      <td>0</td>\n",
       "      <td>1</td>\n",
       "      <td>0</td>\n",
       "    </tr>\n",
       "    <tr>\n",
       "      <th>2</th>\n",
       "      <td>3</td>\n",
       "      <td>1</td>\n",
       "      <td>3</td>\n",
       "      <td>26</td>\n",
       "      <td>0</td>\n",
       "      <td>0</td>\n",
       "      <td>1</td>\n",
       "      <td>0</td>\n",
       "    </tr>\n",
       "    <tr>\n",
       "      <th>3</th>\n",
       "      <td>4</td>\n",
       "      <td>1</td>\n",
       "      <td>1</td>\n",
       "      <td>35</td>\n",
       "      <td>1</td>\n",
       "      <td>0</td>\n",
       "      <td>1</td>\n",
       "      <td>0</td>\n",
       "    </tr>\n",
       "    <tr>\n",
       "      <th>4</th>\n",
       "      <td>5</td>\n",
       "      <td>0</td>\n",
       "      <td>3</td>\n",
       "      <td>35</td>\n",
       "      <td>0</td>\n",
       "      <td>0</td>\n",
       "      <td>0</td>\n",
       "      <td>1</td>\n",
       "    </tr>\n",
       "    <tr>\n",
       "      <th>...</th>\n",
       "      <td>...</td>\n",
       "      <td>...</td>\n",
       "      <td>...</td>\n",
       "      <td>...</td>\n",
       "      <td>...</td>\n",
       "      <td>...</td>\n",
       "      <td>...</td>\n",
       "      <td>...</td>\n",
       "    </tr>\n",
       "    <tr>\n",
       "      <th>886</th>\n",
       "      <td>887</td>\n",
       "      <td>0</td>\n",
       "      <td>2</td>\n",
       "      <td>27</td>\n",
       "      <td>0</td>\n",
       "      <td>0</td>\n",
       "      <td>0</td>\n",
       "      <td>1</td>\n",
       "    </tr>\n",
       "    <tr>\n",
       "      <th>887</th>\n",
       "      <td>888</td>\n",
       "      <td>1</td>\n",
       "      <td>1</td>\n",
       "      <td>19</td>\n",
       "      <td>0</td>\n",
       "      <td>0</td>\n",
       "      <td>1</td>\n",
       "      <td>0</td>\n",
       "    </tr>\n",
       "    <tr>\n",
       "      <th>888</th>\n",
       "      <td>889</td>\n",
       "      <td>0</td>\n",
       "      <td>3</td>\n",
       "      <td>27</td>\n",
       "      <td>1</td>\n",
       "      <td>2</td>\n",
       "      <td>1</td>\n",
       "      <td>0</td>\n",
       "    </tr>\n",
       "    <tr>\n",
       "      <th>889</th>\n",
       "      <td>890</td>\n",
       "      <td>1</td>\n",
       "      <td>1</td>\n",
       "      <td>26</td>\n",
       "      <td>0</td>\n",
       "      <td>0</td>\n",
       "      <td>0</td>\n",
       "      <td>1</td>\n",
       "    </tr>\n",
       "    <tr>\n",
       "      <th>890</th>\n",
       "      <td>891</td>\n",
       "      <td>0</td>\n",
       "      <td>3</td>\n",
       "      <td>32</td>\n",
       "      <td>0</td>\n",
       "      <td>0</td>\n",
       "      <td>0</td>\n",
       "      <td>1</td>\n",
       "    </tr>\n",
       "  </tbody>\n",
       "</table>\n",
       "<p>891 rows × 8 columns</p>\n",
       "</div>"
      ],
      "text/plain": [
       "     PassengerId  Survived  Pclass  Age  SibSp  Parch  Sex_female  Sex_male\n",
       "0              1         0       3   22      1      0           0         1\n",
       "1              2         1       1   38      1      0           1         0\n",
       "2              3         1       3   26      0      0           1         0\n",
       "3              4         1       1   35      1      0           1         0\n",
       "4              5         0       3   35      0      0           0         1\n",
       "..           ...       ...     ...  ...    ...    ...         ...       ...\n",
       "886          887         0       2   27      0      0           0         1\n",
       "887          888         1       1   19      0      0           1         0\n",
       "888          889         0       3   27      1      2           1         0\n",
       "889          890         1       1   26      0      0           0         1\n",
       "890          891         0       3   32      0      0           0         1\n",
       "\n",
       "[891 rows x 8 columns]"
      ]
     },
     "execution_count": 17,
     "metadata": {},
     "output_type": "execute_result"
    }
   ],
   "source": [
    "train_encoded = pd.get_dummies(train)\n",
    "train = train_encoded\n",
    "train"
   ]
  },
  {
   "cell_type": "markdown",
   "id": "statistical-skirt",
   "metadata": {
    "papermill": {
     "duration": 0.064655,
     "end_time": "2021-07-01T12:06:28.195532",
     "exception": false,
     "start_time": "2021-07-01T12:06:28.130877",
     "status": "completed"
    },
    "tags": []
   },
   "source": [
    "### Our Features and Target \n",
    "##### *X is the feature data set, y is the target variable*"
   ]
  },
  {
   "cell_type": "code",
   "execution_count": 18,
   "id": "actual-bunch",
   "metadata": {
    "execution": {
     "iopub.execute_input": "2021-07-01T12:06:28.340516Z",
     "iopub.status.busy": "2021-07-01T12:06:28.339500Z",
     "iopub.status.idle": "2021-07-01T12:06:28.344151Z",
     "shell.execute_reply": "2021-07-01T12:06:28.343490Z",
     "shell.execute_reply.started": "2021-07-01T12:01:59.035745Z"
    },
    "papermill": {
     "duration": 0.083576,
     "end_time": "2021-07-01T12:06:28.344296",
     "exception": false,
     "start_time": "2021-07-01T12:06:28.260720",
     "status": "completed"
    },
    "tags": []
   },
   "outputs": [
    {
     "data": {
      "text/html": [
       "<div>\n",
       "<style scoped>\n",
       "    .dataframe tbody tr th:only-of-type {\n",
       "        vertical-align: middle;\n",
       "    }\n",
       "\n",
       "    .dataframe tbody tr th {\n",
       "        vertical-align: top;\n",
       "    }\n",
       "\n",
       "    .dataframe thead th {\n",
       "        text-align: right;\n",
       "    }\n",
       "</style>\n",
       "<table border=\"1\" class=\"dataframe\">\n",
       "  <thead>\n",
       "    <tr style=\"text-align: right;\">\n",
       "      <th></th>\n",
       "      <th>PassengerId</th>\n",
       "      <th>Pclass</th>\n",
       "      <th>Age</th>\n",
       "      <th>SibSp</th>\n",
       "      <th>Parch</th>\n",
       "      <th>Sex_female</th>\n",
       "      <th>Sex_male</th>\n",
       "    </tr>\n",
       "  </thead>\n",
       "  <tbody>\n",
       "    <tr>\n",
       "      <th>0</th>\n",
       "      <td>1</td>\n",
       "      <td>3</td>\n",
       "      <td>22</td>\n",
       "      <td>1</td>\n",
       "      <td>0</td>\n",
       "      <td>0</td>\n",
       "      <td>1</td>\n",
       "    </tr>\n",
       "    <tr>\n",
       "      <th>1</th>\n",
       "      <td>2</td>\n",
       "      <td>1</td>\n",
       "      <td>38</td>\n",
       "      <td>1</td>\n",
       "      <td>0</td>\n",
       "      <td>1</td>\n",
       "      <td>0</td>\n",
       "    </tr>\n",
       "    <tr>\n",
       "      <th>2</th>\n",
       "      <td>3</td>\n",
       "      <td>3</td>\n",
       "      <td>26</td>\n",
       "      <td>0</td>\n",
       "      <td>0</td>\n",
       "      <td>1</td>\n",
       "      <td>0</td>\n",
       "    </tr>\n",
       "    <tr>\n",
       "      <th>3</th>\n",
       "      <td>4</td>\n",
       "      <td>1</td>\n",
       "      <td>35</td>\n",
       "      <td>1</td>\n",
       "      <td>0</td>\n",
       "      <td>1</td>\n",
       "      <td>0</td>\n",
       "    </tr>\n",
       "    <tr>\n",
       "      <th>4</th>\n",
       "      <td>5</td>\n",
       "      <td>3</td>\n",
       "      <td>35</td>\n",
       "      <td>0</td>\n",
       "      <td>0</td>\n",
       "      <td>0</td>\n",
       "      <td>1</td>\n",
       "    </tr>\n",
       "    <tr>\n",
       "      <th>...</th>\n",
       "      <td>...</td>\n",
       "      <td>...</td>\n",
       "      <td>...</td>\n",
       "      <td>...</td>\n",
       "      <td>...</td>\n",
       "      <td>...</td>\n",
       "      <td>...</td>\n",
       "    </tr>\n",
       "    <tr>\n",
       "      <th>886</th>\n",
       "      <td>887</td>\n",
       "      <td>2</td>\n",
       "      <td>27</td>\n",
       "      <td>0</td>\n",
       "      <td>0</td>\n",
       "      <td>0</td>\n",
       "      <td>1</td>\n",
       "    </tr>\n",
       "    <tr>\n",
       "      <th>887</th>\n",
       "      <td>888</td>\n",
       "      <td>1</td>\n",
       "      <td>19</td>\n",
       "      <td>0</td>\n",
       "      <td>0</td>\n",
       "      <td>1</td>\n",
       "      <td>0</td>\n",
       "    </tr>\n",
       "    <tr>\n",
       "      <th>888</th>\n",
       "      <td>889</td>\n",
       "      <td>3</td>\n",
       "      <td>27</td>\n",
       "      <td>1</td>\n",
       "      <td>2</td>\n",
       "      <td>1</td>\n",
       "      <td>0</td>\n",
       "    </tr>\n",
       "    <tr>\n",
       "      <th>889</th>\n",
       "      <td>890</td>\n",
       "      <td>1</td>\n",
       "      <td>26</td>\n",
       "      <td>0</td>\n",
       "      <td>0</td>\n",
       "      <td>0</td>\n",
       "      <td>1</td>\n",
       "    </tr>\n",
       "    <tr>\n",
       "      <th>890</th>\n",
       "      <td>891</td>\n",
       "      <td>3</td>\n",
       "      <td>32</td>\n",
       "      <td>0</td>\n",
       "      <td>0</td>\n",
       "      <td>0</td>\n",
       "      <td>1</td>\n",
       "    </tr>\n",
       "  </tbody>\n",
       "</table>\n",
       "<p>891 rows × 7 columns</p>\n",
       "</div>"
      ],
      "text/plain": [
       "     PassengerId  Pclass  Age  SibSp  Parch  Sex_female  Sex_male\n",
       "0              1       3   22      1      0           0         1\n",
       "1              2       1   38      1      0           1         0\n",
       "2              3       3   26      0      0           1         0\n",
       "3              4       1   35      1      0           1         0\n",
       "4              5       3   35      0      0           0         1\n",
       "..           ...     ...  ...    ...    ...         ...       ...\n",
       "886          887       2   27      0      0           0         1\n",
       "887          888       1   19      0      0           1         0\n",
       "888          889       3   27      1      2           1         0\n",
       "889          890       1   26      0      0           0         1\n",
       "890          891       3   32      0      0           0         1\n",
       "\n",
       "[891 rows x 7 columns]"
      ]
     },
     "execution_count": 18,
     "metadata": {},
     "output_type": "execute_result"
    }
   ],
   "source": [
    "X = train.drop([\"Survived\"], axis = 1)\n",
    "X"
   ]
  },
  {
   "cell_type": "code",
   "execution_count": 19,
   "id": "alert-stanford",
   "metadata": {
    "execution": {
     "iopub.execute_input": "2021-07-01T12:06:28.484019Z",
     "iopub.status.busy": "2021-07-01T12:06:28.483343Z",
     "iopub.status.idle": "2021-07-01T12:06:28.489421Z",
     "shell.execute_reply": "2021-07-01T12:06:28.488797Z",
     "shell.execute_reply.started": "2021-07-01T12:01:59.063111Z"
    },
    "papermill": {
     "duration": 0.079198,
     "end_time": "2021-07-01T12:06:28.489563",
     "exception": false,
     "start_time": "2021-07-01T12:06:28.410365",
     "status": "completed"
    },
    "tags": []
   },
   "outputs": [
    {
     "data": {
      "text/plain": [
       "0      0\n",
       "1      1\n",
       "2      1\n",
       "3      1\n",
       "4      0\n",
       "      ..\n",
       "886    0\n",
       "887    1\n",
       "888    0\n",
       "889    1\n",
       "890    0\n",
       "Name: Survived, Length: 891, dtype: int64"
      ]
     },
     "execution_count": 19,
     "metadata": {},
     "output_type": "execute_result"
    }
   ],
   "source": [
    "y = train[\"Survived\"]\n",
    "y"
   ]
  },
  {
   "cell_type": "markdown",
   "id": "going-holmes",
   "metadata": {
    "papermill": {
     "duration": 0.065981,
     "end_time": "2021-07-01T12:06:28.622539",
     "exception": false,
     "start_time": "2021-07-01T12:06:28.556558",
     "status": "completed"
    },
    "tags": []
   },
   "source": [
    "### Preprocessing Standardisation\n",
    "##### *Standardising the features*"
   ]
  },
  {
   "cell_type": "code",
   "execution_count": 20,
   "id": "flexible-eclipse",
   "metadata": {
    "execution": {
     "iopub.execute_input": "2021-07-01T12:06:28.760092Z",
     "iopub.status.busy": "2021-07-01T12:06:28.759363Z",
     "iopub.status.idle": "2021-07-01T12:06:28.915734Z",
     "shell.execute_reply": "2021-07-01T12:06:28.915183Z",
     "shell.execute_reply.started": "2021-07-01T12:01:59.079891Z"
    },
    "papermill": {
     "duration": 0.226973,
     "end_time": "2021-07-01T12:06:28.915966",
     "exception": false,
     "start_time": "2021-07-01T12:06:28.688993",
     "status": "completed"
    },
    "tags": []
   },
   "outputs": [
    {
     "data": {
      "text/plain": [
       "(891, 7)"
      ]
     },
     "execution_count": 20,
     "metadata": {},
     "output_type": "execute_result"
    }
   ],
   "source": [
    "from sklearn.preprocessing import StandardScaler\n",
    "scaler = StandardScaler()\n",
    "X = scaler.fit_transform(X)\n",
    "X.shape"
   ]
  },
  {
   "cell_type": "markdown",
   "id": "necessary-armor",
   "metadata": {
    "papermill": {
     "duration": 0.069116,
     "end_time": "2021-07-01T12:06:29.053052",
     "exception": false,
     "start_time": "2021-07-01T12:06:28.983936",
     "status": "completed"
    },
    "tags": []
   },
   "source": [
    "# Train and Validation sets\n",
    "##### *Splitting train set into train set and validation set for testing performance within train data*"
   ]
  },
  {
   "cell_type": "code",
   "execution_count": 21,
   "id": "chinese-symphony",
   "metadata": {
    "execution": {
     "iopub.execute_input": "2021-07-01T12:06:29.194203Z",
     "iopub.status.busy": "2021-07-01T12:06:29.193174Z",
     "iopub.status.idle": "2021-07-01T12:06:29.266518Z",
     "shell.execute_reply": "2021-07-01T12:06:29.265847Z",
     "shell.execute_reply.started": "2021-07-01T12:01:59.144678Z"
    },
    "papermill": {
     "duration": 0.144623,
     "end_time": "2021-07-01T12:06:29.266659",
     "exception": false,
     "start_time": "2021-07-01T12:06:29.122036",
     "status": "completed"
    },
    "tags": []
   },
   "outputs": [],
   "source": [
    "from sklearn.model_selection import train_test_split \n",
    "X_train, X_val, y_train, y_val = train_test_split(X, y, test_size=0.2, random_state=42)\n"
   ]
  },
  {
   "cell_type": "markdown",
   "id": "perceived-colombia",
   "metadata": {
    "papermill": {
     "duration": 0.07258,
     "end_time": "2021-07-01T12:06:29.409263",
     "exception": false,
     "start_time": "2021-07-01T12:06:29.336683",
     "status": "completed"
    },
    "tags": []
   },
   "source": [
    "# Model Validation"
   ]
  },
  {
   "cell_type": "markdown",
   "id": "spanish-thriller",
   "metadata": {
    "papermill": {
     "duration": 0.071442,
     "end_time": "2021-07-01T12:06:29.550992",
     "exception": false,
     "start_time": "2021-07-01T12:06:29.479550",
     "status": "completed"
    },
    "tags": []
   },
   "source": [
    "##### *The train set is Cross validated on various classification models like LogisticRegression, Kneighbors classifier, Support Vector Machines, DecisionTree Classifier, Random Forest Classifier, Naive Bayes Classifier & Gradient Boosting Classifier*"
   ]
  },
  {
   "cell_type": "markdown",
   "id": "reliable-hearts",
   "metadata": {
    "papermill": {
     "duration": 0.066709,
     "end_time": "2021-07-01T12:06:29.685319",
     "exception": false,
     "start_time": "2021-07-01T12:06:29.618610",
     "status": "completed"
    },
    "tags": []
   },
   "source": [
    "##### *Selecting Support Vector Machine model based on the best performance on our training set, other good performers are Naive Bayes and Gradient Boosting Classifier models!*"
   ]
  },
  {
   "cell_type": "markdown",
   "id": "certified-scene",
   "metadata": {
    "papermill": {
     "duration": 0.066526,
     "end_time": "2021-07-01T12:06:29.819463",
     "exception": false,
     "start_time": "2021-07-01T12:06:29.752937",
     "status": "completed"
    },
    "tags": []
   },
   "source": [
    "# Hyperparameter Tuning"
   ]
  },
  {
   "cell_type": "markdown",
   "id": "cloudy-tension",
   "metadata": {
    "papermill": {
     "duration": 0.06689,
     "end_time": "2021-07-01T12:06:29.954056",
     "exception": false,
     "start_time": "2021-07-01T12:06:29.887166",
     "status": "completed"
    },
    "tags": []
   },
   "source": [
    "##### *Tuning the 'C' and 'gamma' parameters using Gridsearch, 'C' reduces error & 'gamma' decides the decision boundry* "
   ]
  },
  {
   "cell_type": "code",
   "execution_count": 22,
   "id": "loving-representative",
   "metadata": {
    "execution": {
     "iopub.execute_input": "2021-07-01T12:06:30.100462Z",
     "iopub.status.busy": "2021-07-01T12:06:30.099697Z",
     "iopub.status.idle": "2021-07-01T12:06:31.131653Z",
     "shell.execute_reply": "2021-07-01T12:06:31.132222Z",
     "shell.execute_reply.started": "2021-07-01T12:01:59.169228Z"
    },
    "papermill": {
     "duration": 1.106915,
     "end_time": "2021-07-01T12:06:31.132459",
     "exception": false,
     "start_time": "2021-07-01T12:06:30.025544",
     "status": "completed"
    },
    "tags": []
   },
   "outputs": [
    {
     "data": {
      "text/plain": [
       "GridSearchCV(estimator=SVC(),\n",
       "             param_grid={'C': [0.1, 1, 10], 'gamma': [1, 0.1, 0.01]})"
      ]
     },
     "execution_count": 22,
     "metadata": {},
     "output_type": "execute_result"
    }
   ],
   "source": [
    "from sklearn.svm import SVC \n",
    "svc = SVC()\n",
    "from sklearn.model_selection import GridSearchCV\n",
    "param_grid = {\n",
    "    'C': [0.1,1, 10], \n",
    "    'gamma': [1,0.1,0.01],\n",
    "   }\n",
    "grid = GridSearchCV(svc,param_grid,refit=True)\n",
    "grid.fit(X_train, y_train)"
   ]
  },
  {
   "cell_type": "code",
   "execution_count": 23,
   "id": "welcome-writer",
   "metadata": {
    "execution": {
     "iopub.execute_input": "2021-07-01T12:06:31.274422Z",
     "iopub.status.busy": "2021-07-01T12:06:31.273694Z",
     "iopub.status.idle": "2021-07-01T12:06:31.277595Z",
     "shell.execute_reply": "2021-07-01T12:06:31.278161Z",
     "shell.execute_reply.started": "2021-07-01T12:02:00.210936Z"
    },
    "papermill": {
     "duration": 0.077681,
     "end_time": "2021-07-01T12:06:31.278342",
     "exception": false,
     "start_time": "2021-07-01T12:06:31.200661",
     "status": "completed"
    },
    "tags": []
   },
   "outputs": [
    {
     "data": {
      "text/plain": [
       "SVC(C=1, gamma=0.1)"
      ]
     },
     "execution_count": 23,
     "metadata": {},
     "output_type": "execute_result"
    }
   ],
   "source": [
    "grid.best_estimator_"
   ]
  },
  {
   "cell_type": "code",
   "execution_count": 24,
   "id": "compliant-elimination",
   "metadata": {
    "execution": {
     "iopub.execute_input": "2021-07-01T12:06:31.423666Z",
     "iopub.status.busy": "2021-07-01T12:06:31.422550Z",
     "iopub.status.idle": "2021-07-01T12:06:31.427592Z",
     "shell.execute_reply": "2021-07-01T12:06:31.427063Z",
     "shell.execute_reply.started": "2021-07-01T12:02:00.221087Z"
    },
    "papermill": {
     "duration": 0.079399,
     "end_time": "2021-07-01T12:06:31.427738",
     "exception": false,
     "start_time": "2021-07-01T12:06:31.348339",
     "status": "completed"
    },
    "tags": []
   },
   "outputs": [
    {
     "data": {
      "text/plain": [
       "0.8201418300009848"
      ]
     },
     "execution_count": 24,
     "metadata": {},
     "output_type": "execute_result"
    }
   ],
   "source": [
    "grid.best_score_"
   ]
  },
  {
   "cell_type": "code",
   "execution_count": 25,
   "id": "presidential-princeton",
   "metadata": {
    "execution": {
     "iopub.execute_input": "2021-07-01T12:06:31.592131Z",
     "iopub.status.busy": "2021-07-01T12:06:31.591151Z",
     "iopub.status.idle": "2021-07-01T12:06:31.596401Z",
     "shell.execute_reply": "2021-07-01T12:06:31.595847Z",
     "shell.execute_reply.started": "2021-07-01T12:02:00.239369Z"
    },
    "papermill": {
     "duration": 0.100987,
     "end_time": "2021-07-01T12:06:31.596536",
     "exception": false,
     "start_time": "2021-07-01T12:06:31.495549",
     "status": "completed"
    },
    "tags": []
   },
   "outputs": [
    {
     "data": {
      "text/html": [
       "<div>\n",
       "<style scoped>\n",
       "    .dataframe tbody tr th:only-of-type {\n",
       "        vertical-align: middle;\n",
       "    }\n",
       "\n",
       "    .dataframe tbody tr th {\n",
       "        vertical-align: top;\n",
       "    }\n",
       "\n",
       "    .dataframe thead th {\n",
       "        text-align: right;\n",
       "    }\n",
       "</style>\n",
       "<table border=\"1\" class=\"dataframe\">\n",
       "  <thead>\n",
       "    <tr style=\"text-align: right;\">\n",
       "      <th></th>\n",
       "      <th>mean_fit_time</th>\n",
       "      <th>std_fit_time</th>\n",
       "      <th>mean_score_time</th>\n",
       "      <th>std_score_time</th>\n",
       "      <th>param_C</th>\n",
       "      <th>param_gamma</th>\n",
       "      <th>params</th>\n",
       "      <th>split0_test_score</th>\n",
       "      <th>split1_test_score</th>\n",
       "      <th>split2_test_score</th>\n",
       "      <th>split3_test_score</th>\n",
       "      <th>split4_test_score</th>\n",
       "      <th>mean_test_score</th>\n",
       "      <th>std_test_score</th>\n",
       "      <th>rank_test_score</th>\n",
       "    </tr>\n",
       "  </thead>\n",
       "  <tbody>\n",
       "    <tr>\n",
       "      <th>0</th>\n",
       "      <td>0.015765</td>\n",
       "      <td>0.000430</td>\n",
       "      <td>0.004842</td>\n",
       "      <td>0.000161</td>\n",
       "      <td>0.1</td>\n",
       "      <td>1</td>\n",
       "      <td>{'C': 0.1, 'gamma': 1}</td>\n",
       "      <td>0.671329</td>\n",
       "      <td>0.678322</td>\n",
       "      <td>0.697183</td>\n",
       "      <td>0.697183</td>\n",
       "      <td>0.683099</td>\n",
       "      <td>0.685423</td>\n",
       "      <td>0.010306</td>\n",
       "      <td>9</td>\n",
       "    </tr>\n",
       "    <tr>\n",
       "      <th>1</th>\n",
       "      <td>0.012173</td>\n",
       "      <td>0.000073</td>\n",
       "      <td>0.003629</td>\n",
       "      <td>0.000052</td>\n",
       "      <td>0.1</td>\n",
       "      <td>0.1</td>\n",
       "      <td>{'C': 0.1, 'gamma': 0.1}</td>\n",
       "      <td>0.818182</td>\n",
       "      <td>0.825175</td>\n",
       "      <td>0.788732</td>\n",
       "      <td>0.767606</td>\n",
       "      <td>0.830986</td>\n",
       "      <td>0.806136</td>\n",
       "      <td>0.024135</td>\n",
       "      <td>4</td>\n",
       "    </tr>\n",
       "    <tr>\n",
       "      <th>2</th>\n",
       "      <td>0.014808</td>\n",
       "      <td>0.000456</td>\n",
       "      <td>0.004688</td>\n",
       "      <td>0.000098</td>\n",
       "      <td>0.1</td>\n",
       "      <td>0.01</td>\n",
       "      <td>{'C': 0.1, 'gamma': 0.01}</td>\n",
       "      <td>0.797203</td>\n",
       "      <td>0.811189</td>\n",
       "      <td>0.767606</td>\n",
       "      <td>0.760563</td>\n",
       "      <td>0.823944</td>\n",
       "      <td>0.792101</td>\n",
       "      <td>0.024491</td>\n",
       "      <td>7</td>\n",
       "    </tr>\n",
       "    <tr>\n",
       "      <th>3</th>\n",
       "      <td>0.016417</td>\n",
       "      <td>0.000464</td>\n",
       "      <td>0.004220</td>\n",
       "      <td>0.000085</td>\n",
       "      <td>1</td>\n",
       "      <td>1</td>\n",
       "      <td>{'C': 1, 'gamma': 1}</td>\n",
       "      <td>0.811189</td>\n",
       "      <td>0.825175</td>\n",
       "      <td>0.802817</td>\n",
       "      <td>0.767606</td>\n",
       "      <td>0.830986</td>\n",
       "      <td>0.807554</td>\n",
       "      <td>0.022321</td>\n",
       "      <td>3</td>\n",
       "    </tr>\n",
       "    <tr>\n",
       "      <th>4</th>\n",
       "      <td>0.011956</td>\n",
       "      <td>0.000282</td>\n",
       "      <td>0.003093</td>\n",
       "      <td>0.000147</td>\n",
       "      <td>1</td>\n",
       "      <td>0.1</td>\n",
       "      <td>{'C': 1, 'gamma': 0.1}</td>\n",
       "      <td>0.853147</td>\n",
       "      <td>0.846154</td>\n",
       "      <td>0.788732</td>\n",
       "      <td>0.788732</td>\n",
       "      <td>0.823944</td>\n",
       "      <td>0.820142</td>\n",
       "      <td>0.027399</td>\n",
       "      <td>1</td>\n",
       "    </tr>\n",
       "    <tr>\n",
       "      <th>5</th>\n",
       "      <td>0.011462</td>\n",
       "      <td>0.000179</td>\n",
       "      <td>0.003112</td>\n",
       "      <td>0.000088</td>\n",
       "      <td>1</td>\n",
       "      <td>0.01</td>\n",
       "      <td>{'C': 1, 'gamma': 0.01}</td>\n",
       "      <td>0.797203</td>\n",
       "      <td>0.811189</td>\n",
       "      <td>0.767606</td>\n",
       "      <td>0.767606</td>\n",
       "      <td>0.830986</td>\n",
       "      <td>0.794918</td>\n",
       "      <td>0.024750</td>\n",
       "      <td>6</td>\n",
       "    </tr>\n",
       "    <tr>\n",
       "      <th>6</th>\n",
       "      <td>0.025437</td>\n",
       "      <td>0.002329</td>\n",
       "      <td>0.004023</td>\n",
       "      <td>0.000124</td>\n",
       "      <td>10</td>\n",
       "      <td>1</td>\n",
       "      <td>{'C': 10, 'gamma': 1}</td>\n",
       "      <td>0.769231</td>\n",
       "      <td>0.790210</td>\n",
       "      <td>0.732394</td>\n",
       "      <td>0.697183</td>\n",
       "      <td>0.795775</td>\n",
       "      <td>0.756959</td>\n",
       "      <td>0.037254</td>\n",
       "      <td>8</td>\n",
       "    </tr>\n",
       "    <tr>\n",
       "      <th>7</th>\n",
       "      <td>0.017719</td>\n",
       "      <td>0.001166</td>\n",
       "      <td>0.003179</td>\n",
       "      <td>0.000246</td>\n",
       "      <td>10</td>\n",
       "      <td>0.1</td>\n",
       "      <td>{'C': 10, 'gamma': 0.1}</td>\n",
       "      <td>0.825175</td>\n",
       "      <td>0.839161</td>\n",
       "      <td>0.795775</td>\n",
       "      <td>0.802817</td>\n",
       "      <td>0.809859</td>\n",
       "      <td>0.814557</td>\n",
       "      <td>0.015689</td>\n",
       "      <td>2</td>\n",
       "    </tr>\n",
       "    <tr>\n",
       "      <th>8</th>\n",
       "      <td>0.012389</td>\n",
       "      <td>0.000623</td>\n",
       "      <td>0.003072</td>\n",
       "      <td>0.000073</td>\n",
       "      <td>10</td>\n",
       "      <td>0.01</td>\n",
       "      <td>{'C': 10, 'gamma': 0.01}</td>\n",
       "      <td>0.797203</td>\n",
       "      <td>0.818182</td>\n",
       "      <td>0.781690</td>\n",
       "      <td>0.760563</td>\n",
       "      <td>0.830986</td>\n",
       "      <td>0.797725</td>\n",
       "      <td>0.025152</td>\n",
       "      <td>5</td>\n",
       "    </tr>\n",
       "  </tbody>\n",
       "</table>\n",
       "</div>"
      ],
      "text/plain": [
       "   mean_fit_time  std_fit_time  mean_score_time  std_score_time param_C  \\\n",
       "0       0.015765      0.000430         0.004842        0.000161     0.1   \n",
       "1       0.012173      0.000073         0.003629        0.000052     0.1   \n",
       "2       0.014808      0.000456         0.004688        0.000098     0.1   \n",
       "3       0.016417      0.000464         0.004220        0.000085       1   \n",
       "4       0.011956      0.000282         0.003093        0.000147       1   \n",
       "5       0.011462      0.000179         0.003112        0.000088       1   \n",
       "6       0.025437      0.002329         0.004023        0.000124      10   \n",
       "7       0.017719      0.001166         0.003179        0.000246      10   \n",
       "8       0.012389      0.000623         0.003072        0.000073      10   \n",
       "\n",
       "  param_gamma                     params  split0_test_score  \\\n",
       "0           1     {'C': 0.1, 'gamma': 1}           0.671329   \n",
       "1         0.1   {'C': 0.1, 'gamma': 0.1}           0.818182   \n",
       "2        0.01  {'C': 0.1, 'gamma': 0.01}           0.797203   \n",
       "3           1       {'C': 1, 'gamma': 1}           0.811189   \n",
       "4         0.1     {'C': 1, 'gamma': 0.1}           0.853147   \n",
       "5        0.01    {'C': 1, 'gamma': 0.01}           0.797203   \n",
       "6           1      {'C': 10, 'gamma': 1}           0.769231   \n",
       "7         0.1    {'C': 10, 'gamma': 0.1}           0.825175   \n",
       "8        0.01   {'C': 10, 'gamma': 0.01}           0.797203   \n",
       "\n",
       "   split1_test_score  split2_test_score  split3_test_score  split4_test_score  \\\n",
       "0           0.678322           0.697183           0.697183           0.683099   \n",
       "1           0.825175           0.788732           0.767606           0.830986   \n",
       "2           0.811189           0.767606           0.760563           0.823944   \n",
       "3           0.825175           0.802817           0.767606           0.830986   \n",
       "4           0.846154           0.788732           0.788732           0.823944   \n",
       "5           0.811189           0.767606           0.767606           0.830986   \n",
       "6           0.790210           0.732394           0.697183           0.795775   \n",
       "7           0.839161           0.795775           0.802817           0.809859   \n",
       "8           0.818182           0.781690           0.760563           0.830986   \n",
       "\n",
       "   mean_test_score  std_test_score  rank_test_score  \n",
       "0         0.685423        0.010306                9  \n",
       "1         0.806136        0.024135                4  \n",
       "2         0.792101        0.024491                7  \n",
       "3         0.807554        0.022321                3  \n",
       "4         0.820142        0.027399                1  \n",
       "5         0.794918        0.024750                6  \n",
       "6         0.756959        0.037254                8  \n",
       "7         0.814557        0.015689                2  \n",
       "8         0.797725        0.025152                5  "
      ]
     },
     "execution_count": 25,
     "metadata": {},
     "output_type": "execute_result"
    }
   ],
   "source": [
    "pd.DataFrame(grid.cv_results_)"
   ]
  },
  {
   "cell_type": "code",
   "execution_count": 26,
   "id": "opponent-cherry",
   "metadata": {
    "execution": {
     "iopub.execute_input": "2021-07-01T12:06:31.776064Z",
     "iopub.status.busy": "2021-07-01T12:06:31.775377Z",
     "iopub.status.idle": "2021-07-01T12:06:31.991906Z",
     "shell.execute_reply": "2021-07-01T12:06:31.991304Z",
     "shell.execute_reply.started": "2021-07-01T12:02:00.283647Z"
    },
    "papermill": {
     "duration": 0.327982,
     "end_time": "2021-07-01T12:06:31.992060",
     "exception": false,
     "start_time": "2021-07-01T12:06:31.664078",
     "status": "completed"
    },
    "tags": []
   },
   "outputs": [
    {
     "data": {
      "text/plain": [
       "[Text(0.5, 0, 'gamma'), Text(0, 0.5, 'Mean Test Score')]"
      ]
     },
     "execution_count": 26,
     "metadata": {},
     "output_type": "execute_result"
    },
    {
     "data": {
      "image/png": "[encoded data removed]",
      "text/plain": [
       "<Figure size 720x432 with 1 Axes>"
      ]
     },
     "metadata": {
      "needs_background": "light"
     },
     "output_type": "display_data"
    }
   ],
   "source": [
    "f,ax = plt.subplots(figsize = (10,6))\n",
    "sns.barplot(data = grid.cv_results_, x = 'param_gamma', y = 'mean_test_score', ax=ax, palette = 'rocket_r')\n",
    "ax.set(ylim=(0.7, 0.9))\n",
    "ax.set(title=\"Grid Search SVM score\")\n",
    "ax.set(xlabel=\"gamma\", ylabel=\"Mean Test Score\")"
   ]
  },
  {
   "cell_type": "markdown",
   "id": "pediatric-rwanda",
   "metadata": {
    "papermill": {
     "duration": 0.068819,
     "end_time": "2021-07-01T12:06:32.131400",
     "exception": false,
     "start_time": "2021-07-01T12:06:32.062581",
     "status": "completed"
    },
    "tags": []
   },
   "source": [
    "### Our final tuned model to fit our test data!"
   ]
  },
  {
   "cell_type": "code",
   "execution_count": 27,
   "id": "norman-buddy",
   "metadata": {
    "execution": {
     "iopub.execute_input": "2021-07-01T12:06:32.274667Z",
     "iopub.status.busy": "2021-07-01T12:06:32.273768Z",
     "iopub.status.idle": "2021-07-01T12:06:32.277264Z",
     "shell.execute_reply": "2021-07-01T12:06:32.276594Z",
     "shell.execute_reply.started": "2021-07-01T12:02:00.576910Z"
    },
    "papermill": {
     "duration": 0.076251,
     "end_time": "2021-07-01T12:06:32.277405",
     "exception": false,
     "start_time": "2021-07-01T12:06:32.201154",
     "status": "completed"
    },
    "tags": []
   },
   "outputs": [],
   "source": [
    "model = grid.best_estimator_"
   ]
  },
  {
   "cell_type": "markdown",
   "id": "everyday-appeal",
   "metadata": {
    "papermill": {
     "duration": 0.070266,
     "end_time": "2021-07-01T12:06:32.416902",
     "exception": false,
     "start_time": "2021-07-01T12:06:32.346636",
     "status": "completed"
    },
    "tags": []
   },
   "source": [
    "# Model Evaluation"
   ]
  },
  {
   "cell_type": "markdown",
   "id": "enabling-slave",
   "metadata": {
    "papermill": {
     "duration": 0.068567,
     "end_time": "2021-07-01T12:06:32.555520",
     "exception": false,
     "start_time": "2021-07-01T12:06:32.486953",
     "status": "completed"
    },
    "tags": []
   },
   "source": [
    "# Classification Report & Confusion Matrix"
   ]
  },
  {
   "cell_type": "code",
   "execution_count": 28,
   "id": "oriented-oasis",
   "metadata": {
    "execution": {
     "iopub.execute_input": "2021-07-01T12:06:32.699024Z",
     "iopub.status.busy": "2021-07-01T12:06:32.697946Z",
     "iopub.status.idle": "2021-07-01T12:06:32.711873Z",
     "shell.execute_reply": "2021-07-01T12:06:32.711179Z",
     "shell.execute_reply.started": "2021-07-01T12:02:00.584595Z"
    },
    "papermill": {
     "duration": 0.087615,
     "end_time": "2021-07-01T12:06:32.712016",
     "exception": false,
     "start_time": "2021-07-01T12:06:32.624401",
     "status": "completed"
    },
    "tags": []
   },
   "outputs": [
    {
     "name": "stdout",
     "output_type": "stream",
     "text": [
      "              precision    recall  f1-score   support\n",
      "\n",
      "           0       0.82      0.88      0.85       105\n",
      "           1       0.81      0.73      0.77        74\n",
      "\n",
      "    accuracy                           0.82       179\n",
      "   macro avg       0.81      0.80      0.81       179\n",
      "weighted avg       0.82      0.82      0.81       179\n",
      "\n"
     ]
    }
   ],
   "source": [
    "from sklearn.metrics import classification_report, confusion_matrix\n",
    "y_pred = model.predict(X_val)\n",
    "print(classification_report(y_val, y_pred))"
   ]
  },
  {
   "cell_type": "code",
   "execution_count": 29,
   "id": "attended-virus",
   "metadata": {
    "execution": {
     "iopub.execute_input": "2021-07-01T12:06:32.860485Z",
     "iopub.status.busy": "2021-07-01T12:06:32.859723Z",
     "iopub.status.idle": "2021-07-01T12:06:32.863541Z",
     "shell.execute_reply": "2021-07-01T12:06:32.862935Z",
     "shell.execute_reply.started": "2021-07-01T12:02:00.611012Z"
    },
    "papermill": {
     "duration": 0.08143,
     "end_time": "2021-07-01T12:06:32.863678",
     "exception": false,
     "start_time": "2021-07-01T12:06:32.782248",
     "status": "completed"
    },
    "tags": []
   },
   "outputs": [
    {
     "data": {
      "text/plain": [
       "array([[92, 13],\n",
       "       [20, 54]])"
      ]
     },
     "execution_count": 29,
     "metadata": {},
     "output_type": "execute_result"
    }
   ],
   "source": [
    "cn_matrix = confusion_matrix(y_val, y_pred, labels = [0,1])\n",
    "cn_matrix"
   ]
  },
  {
   "cell_type": "code",
   "execution_count": 30,
   "id": "demanding-desktop",
   "metadata": {
    "execution": {
     "iopub.execute_input": "2021-07-01T12:06:33.055191Z",
     "iopub.status.busy": "2021-07-01T12:06:33.052097Z",
     "iopub.status.idle": "2021-07-01T12:06:33.233282Z",
     "shell.execute_reply": "2021-07-01T12:06:33.232476Z",
     "shell.execute_reply.started": "2021-07-01T12:02:00.626277Z"
    },
    "papermill": {
     "duration": 0.299459,
     "end_time": "2021-07-01T12:06:33.233470",
     "exception": false,
     "start_time": "2021-07-01T12:06:32.934011",
     "status": "completed"
    },
    "tags": []
   },
   "outputs": [
    {
     "data": {
      "text/plain": [
       "Text(0.5, 1.0, 'Confusion Matrix')"
      ]
     },
     "execution_count": 30,
     "metadata": {},
     "output_type": "execute_result"
    },
    {
     "data": {
      "image/png": "[encoded data removed]",
      "text/plain": [
       "<Figure size 720x576 with 2 Axes>"
      ]
     },
     "metadata": {
      "needs_background": "light"
     },
     "output_type": "display_data"
    }
   ],
   "source": [
    "f, ax = plt.subplots(figsize = (10,8))\n",
    "ax = sns.heatmap(cn_matrix, annot=True)\n",
    "ax.set_xlabel(\"Predicted\")\n",
    "ax.set_ylabel(\"True\")\n",
    "ax.set_title(\"Confusion Matrix\")\n"
   ]
  },
  {
   "cell_type": "markdown",
   "id": "duplicate-lawyer",
   "metadata": {
    "papermill": {
     "duration": 0.070303,
     "end_time": "2021-07-01T12:06:33.375274",
     "exception": false,
     "start_time": "2021-07-01T12:06:33.304971",
     "status": "completed"
    },
    "tags": []
   },
   "source": [
    "### Area under the ROC Curve is 0.80, it shows that our model gives a good performance"
   ]
  },
  {
   "cell_type": "code",
   "execution_count": 31,
   "id": "respective-width",
   "metadata": {
    "execution": {
     "iopub.execute_input": "2021-07-01T12:06:33.525278Z",
     "iopub.status.busy": "2021-07-01T12:06:33.524583Z",
     "iopub.status.idle": "2021-07-01T12:06:33.527745Z",
     "shell.execute_reply": "2021-07-01T12:06:33.527144Z",
     "shell.execute_reply.started": "2021-07-01T12:02:00.909128Z"
    },
    "papermill": {
     "duration": 0.081494,
     "end_time": "2021-07-01T12:06:33.527903",
     "exception": false,
     "start_time": "2021-07-01T12:06:33.446409",
     "status": "completed"
    },
    "tags": []
   },
   "outputs": [],
   "source": [
    "from sklearn.metrics import roc_curve, auc\n",
    "fpr, tpr, _ = roc_curve(y_val, y_pred)\n",
    "roc_auc = auc(fpr, tpr)"
   ]
  },
  {
   "cell_type": "code",
   "execution_count": 32,
   "id": "established-glossary",
   "metadata": {
    "execution": {
     "iopub.execute_input": "2021-07-01T12:06:33.675575Z",
     "iopub.status.busy": "2021-07-01T12:06:33.674541Z",
     "iopub.status.idle": "2021-07-01T12:06:33.861354Z",
     "shell.execute_reply": "2021-07-01T12:06:33.860819Z",
     "shell.execute_reply.started": "2021-07-01T12:03:19.356919Z"
    },
    "papermill": {
     "duration": 0.262595,
     "end_time": "2021-07-01T12:06:33.861511",
     "exception": false,
     "start_time": "2021-07-01T12:06:33.598916",
     "status": "completed"
    },
    "tags": []
   },
   "outputs": [
    {
     "data": {
      "text/plain": [
       "<matplotlib.legend.Legend at 0x7fef902a4f10>"
      ]
     },
     "execution_count": 32,
     "metadata": {},
     "output_type": "execute_result"
    },
    {
     "data": {
      "image/png": "[encoded data removed]",
      "text/plain": [
       "<Figure size 720x576 with 1 Axes>"
      ]
     },
     "metadata": {
      "needs_background": "light"
     },
     "output_type": "display_data"
    }
   ],
   "source": [
    "plt.figure(figsize = (10,8))\n",
    "plt.plot(fpr, tpr, color = 'magenta', lw = 2, label = 'ROC curve (area = %0.2f)' % roc_auc)\n",
    "plt.plot([1,0], [1,0], color = 'navy', lw = 2, linestyle = '--')\n",
    "plt.xlim([0.0, 1.0])\n",
    "plt.ylim([0.0, 1.05])\n",
    "plt.xlabel('False Positive Rate')\n",
    "plt.ylabel('True Positive Rate')\n",
    "plt.title(\"Receiver Operating Characteristic curve\")\n",
    "plt.legend(loc = 'lower right')"
   ]
  },
  {
   "cell_type": "markdown",
   "id": "removable-nicholas",
   "metadata": {
    "papermill": {
     "duration": 0.073373,
     "end_time": "2021-07-01T12:06:34.007562",
     "exception": false,
     "start_time": "2021-07-01T12:06:33.934189",
     "status": "completed"
    },
    "tags": []
   },
   "source": [
    "### Test Data\n"
   ]
  },
  {
   "cell_type": "code",
   "execution_count": 33,
   "id": "visible-singles",
   "metadata": {
    "execution": {
     "iopub.execute_input": "2021-07-01T12:06:34.160631Z",
     "iopub.status.busy": "2021-07-01T12:06:34.159970Z",
     "iopub.status.idle": "2021-07-01T12:06:34.193414Z",
     "shell.execute_reply": "2021-07-01T12:06:34.193953Z",
     "shell.execute_reply.started": "2021-07-01T12:02:01.127181Z"
    },
    "papermill": {
     "duration": 0.112302,
     "end_time": "2021-07-01T12:06:34.194131",
     "exception": false,
     "start_time": "2021-07-01T12:06:34.081829",
     "status": "completed"
    },
    "tags": []
   },
   "outputs": [
    {
     "data": {
      "text/html": [
       "<div>\n",
       "<style scoped>\n",
       "    .dataframe tbody tr th:only-of-type {\n",
       "        vertical-align: middle;\n",
       "    }\n",
       "\n",
       "    .dataframe tbody tr th {\n",
       "        vertical-align: top;\n",
       "    }\n",
       "\n",
       "    .dataframe thead th {\n",
       "        text-align: right;\n",
       "    }\n",
       "</style>\n",
       "<table border=\"1\" class=\"dataframe\">\n",
       "  <thead>\n",
       "    <tr style=\"text-align: right;\">\n",
       "      <th></th>\n",
       "      <th>PassengerId</th>\n",
       "      <th>Pclass</th>\n",
       "      <th>Name</th>\n",
       "      <th>Sex</th>\n",
       "      <th>Age</th>\n",
       "      <th>SibSp</th>\n",
       "      <th>Parch</th>\n",
       "      <th>Ticket</th>\n",
       "      <th>Fare</th>\n",
       "      <th>Cabin</th>\n",
       "      <th>Embarked</th>\n",
       "    </tr>\n",
       "  </thead>\n",
       "  <tbody>\n",
       "    <tr>\n",
       "      <th>0</th>\n",
       "      <td>892</td>\n",
       "      <td>3</td>\n",
       "      <td>Kelly, Mr. James</td>\n",
       "      <td>male</td>\n",
       "      <td>34.5</td>\n",
       "      <td>0</td>\n",
       "      <td>0</td>\n",
       "      <td>330911</td>\n",
       "      <td>7.8292</td>\n",
       "      <td>NaN</td>\n",
       "      <td>Q</td>\n",
       "    </tr>\n",
       "    <tr>\n",
       "      <th>1</th>\n",
       "      <td>893</td>\n",
       "      <td>3</td>\n",
       "      <td>Wilkes, Mrs. James (Ellen Needs)</td>\n",
       "      <td>female</td>\n",
       "      <td>47.0</td>\n",
       "      <td>1</td>\n",
       "      <td>0</td>\n",
       "      <td>363272</td>\n",
       "      <td>7.0000</td>\n",
       "      <td>NaN</td>\n",
       "      <td>S</td>\n",
       "    </tr>\n",
       "    <tr>\n",
       "      <th>2</th>\n",
       "      <td>894</td>\n",
       "      <td>2</td>\n",
       "      <td>Myles, Mr. Thomas Francis</td>\n",
       "      <td>male</td>\n",
       "      <td>62.0</td>\n",
       "      <td>0</td>\n",
       "      <td>0</td>\n",
       "      <td>240276</td>\n",
       "      <td>9.6875</td>\n",
       "      <td>NaN</td>\n",
       "      <td>Q</td>\n",
       "    </tr>\n",
       "    <tr>\n",
       "      <th>3</th>\n",
       "      <td>895</td>\n",
       "      <td>3</td>\n",
       "      <td>Wirz, Mr. Albert</td>\n",
       "      <td>male</td>\n",
       "      <td>27.0</td>\n",
       "      <td>0</td>\n",
       "      <td>0</td>\n",
       "      <td>315154</td>\n",
       "      <td>8.6625</td>\n",
       "      <td>NaN</td>\n",
       "      <td>S</td>\n",
       "    </tr>\n",
       "    <tr>\n",
       "      <th>4</th>\n",
       "      <td>896</td>\n",
       "      <td>3</td>\n",
       "      <td>Hirvonen, Mrs. Alexander (Helga E Lindqvist)</td>\n",
       "      <td>female</td>\n",
       "      <td>22.0</td>\n",
       "      <td>1</td>\n",
       "      <td>1</td>\n",
       "      <td>3101298</td>\n",
       "      <td>12.2875</td>\n",
       "      <td>NaN</td>\n",
       "      <td>S</td>\n",
       "    </tr>\n",
       "    <tr>\n",
       "      <th>...</th>\n",
       "      <td>...</td>\n",
       "      <td>...</td>\n",
       "      <td>...</td>\n",
       "      <td>...</td>\n",
       "      <td>...</td>\n",
       "      <td>...</td>\n",
       "      <td>...</td>\n",
       "      <td>...</td>\n",
       "      <td>...</td>\n",
       "      <td>...</td>\n",
       "      <td>...</td>\n",
       "    </tr>\n",
       "    <tr>\n",
       "      <th>413</th>\n",
       "      <td>1305</td>\n",
       "      <td>3</td>\n",
       "      <td>Spector, Mr. Woolf</td>\n",
       "      <td>male</td>\n",
       "      <td>NaN</td>\n",
       "      <td>0</td>\n",
       "      <td>0</td>\n",
       "      <td>A.5. 3236</td>\n",
       "      <td>8.0500</td>\n",
       "      <td>NaN</td>\n",
       "      <td>S</td>\n",
       "    </tr>\n",
       "    <tr>\n",
       "      <th>414</th>\n",
       "      <td>1306</td>\n",
       "      <td>1</td>\n",
       "      <td>Oliva y Ocana, Dona. Fermina</td>\n",
       "      <td>female</td>\n",
       "      <td>39.0</td>\n",
       "      <td>0</td>\n",
       "      <td>0</td>\n",
       "      <td>PC 17758</td>\n",
       "      <td>108.9000</td>\n",
       "      <td>C105</td>\n",
       "      <td>C</td>\n",
       "    </tr>\n",
       "    <tr>\n",
       "      <th>415</th>\n",
       "      <td>1307</td>\n",
       "      <td>3</td>\n",
       "      <td>Saether, Mr. Simon Sivertsen</td>\n",
       "      <td>male</td>\n",
       "      <td>38.5</td>\n",
       "      <td>0</td>\n",
       "      <td>0</td>\n",
       "      <td>SOTON/O.Q. 3101262</td>\n",
       "      <td>7.2500</td>\n",
       "      <td>NaN</td>\n",
       "      <td>S</td>\n",
       "    </tr>\n",
       "    <tr>\n",
       "      <th>416</th>\n",
       "      <td>1308</td>\n",
       "      <td>3</td>\n",
       "      <td>Ware, Mr. Frederick</td>\n",
       "      <td>male</td>\n",
       "      <td>NaN</td>\n",
       "      <td>0</td>\n",
       "      <td>0</td>\n",
       "      <td>359309</td>\n",
       "      <td>8.0500</td>\n",
       "      <td>NaN</td>\n",
       "      <td>S</td>\n",
       "    </tr>\n",
       "    <tr>\n",
       "      <th>417</th>\n",
       "      <td>1309</td>\n",
       "      <td>3</td>\n",
       "      <td>Peter, Master. Michael J</td>\n",
       "      <td>male</td>\n",
       "      <td>NaN</td>\n",
       "      <td>1</td>\n",
       "      <td>1</td>\n",
       "      <td>2668</td>\n",
       "      <td>22.3583</td>\n",
       "      <td>NaN</td>\n",
       "      <td>C</td>\n",
       "    </tr>\n",
       "  </tbody>\n",
       "</table>\n",
       "<p>418 rows × 11 columns</p>\n",
       "</div>"
      ],
      "text/plain": [
       "     PassengerId  Pclass                                          Name  \\\n",
       "0            892       3                              Kelly, Mr. James   \n",
       "1            893       3              Wilkes, Mrs. James (Ellen Needs)   \n",
       "2            894       2                     Myles, Mr. Thomas Francis   \n",
       "3            895       3                              Wirz, Mr. Albert   \n",
       "4            896       3  Hirvonen, Mrs. Alexander (Helga E Lindqvist)   \n",
       "..           ...     ...                                           ...   \n",
       "413         1305       3                            Spector, Mr. Woolf   \n",
       "414         1306       1                  Oliva y Ocana, Dona. Fermina   \n",
       "415         1307       3                  Saether, Mr. Simon Sivertsen   \n",
       "416         1308       3                           Ware, Mr. Frederick   \n",
       "417         1309       3                      Peter, Master. Michael J   \n",
       "\n",
       "        Sex   Age  SibSp  Parch              Ticket      Fare Cabin Embarked  \n",
       "0      male  34.5      0      0              330911    7.8292   NaN        Q  \n",
       "1    female  47.0      1      0              363272    7.0000   NaN        S  \n",
       "2      male  62.0      0      0              240276    9.6875   NaN        Q  \n",
       "3      male  27.0      0      0              315154    8.6625   NaN        S  \n",
       "4    female  22.0      1      1             3101298   12.2875   NaN        S  \n",
       "..      ...   ...    ...    ...                 ...       ...   ...      ...  \n",
       "413    male   NaN      0      0           A.5. 3236    8.0500   NaN        S  \n",
       "414  female  39.0      0      0            PC 17758  108.9000  C105        C  \n",
       "415    male  38.5      0      0  SOTON/O.Q. 3101262    7.2500   NaN        S  \n",
       "416    male   NaN      0      0              359309    8.0500   NaN        S  \n",
       "417    male   NaN      1      1                2668   22.3583   NaN        C  \n",
       "\n",
       "[418 rows x 11 columns]"
      ]
     },
     "execution_count": 33,
     "metadata": {},
     "output_type": "execute_result"
    }
   ],
   "source": [
    "test= pd.read_csv(\"/kaggle/input/titanic/test.csv\")\n",
    "test"
   ]
  },
  {
   "cell_type": "markdown",
   "id": "assumed-ivory",
   "metadata": {
    "papermill": {
     "duration": 0.073117,
     "end_time": "2021-07-01T12:06:34.341431",
     "exception": false,
     "start_time": "2021-07-01T12:06:34.268314",
     "status": "completed"
    },
    "tags": []
   },
   "source": [
    "# Test Data cleaning & preprocessing"
   ]
  },
  {
   "cell_type": "markdown",
   "id": "weighted-nation",
   "metadata": {
    "papermill": {
     "duration": 0.072404,
     "end_time": "2021-07-01T12:06:34.488408",
     "exception": false,
     "start_time": "2021-07-01T12:06:34.416004",
     "status": "completed"
    },
    "tags": []
   },
   "source": []
  },
  {
   "cell_type": "code",
   "execution_count": 34,
   "id": "bibliographic-kidney",
   "metadata": {
    "execution": {
     "iopub.execute_input": "2021-07-01T12:06:34.640527Z",
     "iopub.status.busy": "2021-07-01T12:06:34.639846Z",
     "iopub.status.idle": "2021-07-01T12:06:34.657054Z",
     "shell.execute_reply": "2021-07-01T12:06:34.657545Z",
     "shell.execute_reply.started": "2021-07-01T12:02:01.169723Z"
    },
    "papermill": {
     "duration": 0.095594,
     "end_time": "2021-07-01T12:06:34.657714",
     "exception": false,
     "start_time": "2021-07-01T12:06:34.562120",
     "status": "completed"
    },
    "tags": []
   },
   "outputs": [
    {
     "data": {
      "text/html": [
       "<div>\n",
       "<style scoped>\n",
       "    .dataframe tbody tr th:only-of-type {\n",
       "        vertical-align: middle;\n",
       "    }\n",
       "\n",
       "    .dataframe tbody tr th {\n",
       "        vertical-align: top;\n",
       "    }\n",
       "\n",
       "    .dataframe thead th {\n",
       "        text-align: right;\n",
       "    }\n",
       "</style>\n",
       "<table border=\"1\" class=\"dataframe\">\n",
       "  <thead>\n",
       "    <tr style=\"text-align: right;\">\n",
       "      <th></th>\n",
       "      <th>PassengerId</th>\n",
       "      <th>Pclass</th>\n",
       "      <th>Sex</th>\n",
       "      <th>Age</th>\n",
       "      <th>SibSp</th>\n",
       "      <th>Parch</th>\n",
       "    </tr>\n",
       "  </thead>\n",
       "  <tbody>\n",
       "    <tr>\n",
       "      <th>0</th>\n",
       "      <td>892</td>\n",
       "      <td>3</td>\n",
       "      <td>male</td>\n",
       "      <td>34.5</td>\n",
       "      <td>0</td>\n",
       "      <td>0</td>\n",
       "    </tr>\n",
       "    <tr>\n",
       "      <th>1</th>\n",
       "      <td>893</td>\n",
       "      <td>3</td>\n",
       "      <td>female</td>\n",
       "      <td>47.0</td>\n",
       "      <td>1</td>\n",
       "      <td>0</td>\n",
       "    </tr>\n",
       "    <tr>\n",
       "      <th>2</th>\n",
       "      <td>894</td>\n",
       "      <td>2</td>\n",
       "      <td>male</td>\n",
       "      <td>62.0</td>\n",
       "      <td>0</td>\n",
       "      <td>0</td>\n",
       "    </tr>\n",
       "    <tr>\n",
       "      <th>3</th>\n",
       "      <td>895</td>\n",
       "      <td>3</td>\n",
       "      <td>male</td>\n",
       "      <td>27.0</td>\n",
       "      <td>0</td>\n",
       "      <td>0</td>\n",
       "    </tr>\n",
       "    <tr>\n",
       "      <th>4</th>\n",
       "      <td>896</td>\n",
       "      <td>3</td>\n",
       "      <td>female</td>\n",
       "      <td>22.0</td>\n",
       "      <td>1</td>\n",
       "      <td>1</td>\n",
       "    </tr>\n",
       "    <tr>\n",
       "      <th>...</th>\n",
       "      <td>...</td>\n",
       "      <td>...</td>\n",
       "      <td>...</td>\n",
       "      <td>...</td>\n",
       "      <td>...</td>\n",
       "      <td>...</td>\n",
       "    </tr>\n",
       "    <tr>\n",
       "      <th>413</th>\n",
       "      <td>1305</td>\n",
       "      <td>3</td>\n",
       "      <td>male</td>\n",
       "      <td>NaN</td>\n",
       "      <td>0</td>\n",
       "      <td>0</td>\n",
       "    </tr>\n",
       "    <tr>\n",
       "      <th>414</th>\n",
       "      <td>1306</td>\n",
       "      <td>1</td>\n",
       "      <td>female</td>\n",
       "      <td>39.0</td>\n",
       "      <td>0</td>\n",
       "      <td>0</td>\n",
       "    </tr>\n",
       "    <tr>\n",
       "      <th>415</th>\n",
       "      <td>1307</td>\n",
       "      <td>3</td>\n",
       "      <td>male</td>\n",
       "      <td>38.5</td>\n",
       "      <td>0</td>\n",
       "      <td>0</td>\n",
       "    </tr>\n",
       "    <tr>\n",
       "      <th>416</th>\n",
       "      <td>1308</td>\n",
       "      <td>3</td>\n",
       "      <td>male</td>\n",
       "      <td>NaN</td>\n",
       "      <td>0</td>\n",
       "      <td>0</td>\n",
       "    </tr>\n",
       "    <tr>\n",
       "      <th>417</th>\n",
       "      <td>1309</td>\n",
       "      <td>3</td>\n",
       "      <td>male</td>\n",
       "      <td>NaN</td>\n",
       "      <td>1</td>\n",
       "      <td>1</td>\n",
       "    </tr>\n",
       "  </tbody>\n",
       "</table>\n",
       "<p>418 rows × 6 columns</p>\n",
       "</div>"
      ],
      "text/plain": [
       "     PassengerId  Pclass     Sex   Age  SibSp  Parch\n",
       "0            892       3    male  34.5      0      0\n",
       "1            893       3  female  47.0      1      0\n",
       "2            894       2    male  62.0      0      0\n",
       "3            895       3    male  27.0      0      0\n",
       "4            896       3  female  22.0      1      1\n",
       "..           ...     ...     ...   ...    ...    ...\n",
       "413         1305       3    male   NaN      0      0\n",
       "414         1306       1  female  39.0      0      0\n",
       "415         1307       3    male  38.5      0      0\n",
       "416         1308       3    male   NaN      0      0\n",
       "417         1309       3    male   NaN      1      1\n",
       "\n",
       "[418 rows x 6 columns]"
      ]
     },
     "execution_count": 34,
     "metadata": {},
     "output_type": "execute_result"
    }
   ],
   "source": [
    "test = test.drop([\"Name\", \"Ticket\", \"Fare\", \"Embarked\", \"Cabin\"], axis=1)\n",
    "test\n"
   ]
  },
  {
   "cell_type": "code",
   "execution_count": 35,
   "id": "guilty-league",
   "metadata": {
    "execution": {
     "iopub.execute_input": "2021-07-01T12:06:34.812987Z",
     "iopub.status.busy": "2021-07-01T12:06:34.812258Z",
     "iopub.status.idle": "2021-07-01T12:06:34.822620Z",
     "shell.execute_reply": "2021-07-01T12:06:34.822090Z",
     "shell.execute_reply.started": "2021-07-01T12:02:01.194652Z"
    },
    "papermill": {
     "duration": 0.088684,
     "end_time": "2021-07-01T12:06:34.822791",
     "exception": false,
     "start_time": "2021-07-01T12:06:34.734107",
     "status": "completed"
    },
    "tags": []
   },
   "outputs": [
    {
     "data": {
      "text/plain": [
       "PassengerId     0\n",
       "Pclass          0\n",
       "Sex             0\n",
       "Age            86\n",
       "SibSp           0\n",
       "Parch           0\n",
       "dtype: int64"
      ]
     },
     "execution_count": 35,
     "metadata": {},
     "output_type": "execute_result"
    }
   ],
   "source": [
    "test.isnull().sum()"
   ]
  },
  {
   "cell_type": "code",
   "execution_count": 36,
   "id": "existing-prophet",
   "metadata": {
    "execution": {
     "iopub.execute_input": "2021-07-01T12:06:34.985464Z",
     "iopub.status.busy": "2021-07-01T12:06:34.984731Z",
     "iopub.status.idle": "2021-07-01T12:06:34.988080Z",
     "shell.execute_reply": "2021-07-01T12:06:34.988565Z",
     "shell.execute_reply.started": "2021-07-01T12:02:01.213317Z"
    },
    "papermill": {
     "duration": 0.091174,
     "end_time": "2021-07-01T12:06:34.988743",
     "exception": false,
     "start_time": "2021-07-01T12:06:34.897569",
     "status": "completed"
    },
    "tags": []
   },
   "outputs": [
    {
     "data": {
      "text/plain": [
       "1      47\n",
       "4      22\n",
       "6      30\n",
       "8      18\n",
       "12     23\n",
       "       ..\n",
       "409     3\n",
       "410    30\n",
       "411    37\n",
       "412    28\n",
       "414    39\n",
       "Name: Age, Length: 152, dtype: int64"
      ]
     },
     "execution_count": 36,
     "metadata": {},
     "output_type": "execute_result"
    }
   ],
   "source": [
    "female = (test[\"Sex\"] == \"female\")\n",
    "female.sum()\n",
    "avg_age_female = (test[female][\"Age\"].mean())\n",
    "round(avg_age_female,1) \n",
    "test_female = (test[female][\"Age\"]).fillna(value=avg_age_female)\n",
    "test_female.astype('int')"
   ]
  },
  {
   "cell_type": "code",
   "execution_count": 37,
   "id": "thrown-bracket",
   "metadata": {
    "execution": {
     "iopub.execute_input": "2021-07-01T12:06:35.149608Z",
     "iopub.status.busy": "2021-07-01T12:06:35.148893Z",
     "iopub.status.idle": "2021-07-01T12:06:35.160590Z",
     "shell.execute_reply": "2021-07-01T12:06:35.161097Z",
     "shell.execute_reply.started": "2021-07-01T12:02:01.236855Z"
    },
    "papermill": {
     "duration": 0.094908,
     "end_time": "2021-07-01T12:06:35.161291",
     "exception": false,
     "start_time": "2021-07-01T12:06:35.066383",
     "status": "completed"
    },
    "tags": []
   },
   "outputs": [
    {
     "data": {
      "text/plain": [
       "0      34\n",
       "2      62\n",
       "3      27\n",
       "5      14\n",
       "7      26\n",
       "       ..\n",
       "407    50\n",
       "413    30\n",
       "415    38\n",
       "416    30\n",
       "417    30\n",
       "Name: Age, Length: 266, dtype: int64"
      ]
     },
     "execution_count": 37,
     "metadata": {},
     "output_type": "execute_result"
    }
   ],
   "source": [
    "male = (test[\"Sex\"] == \"male\")\n",
    "male.sum()\n",
    "avg_age_male = (test[male][\"Age\"].mean())\n",
    "round(avg_age_male,1) \n",
    "test_male = (test[male][\"Age\"]).fillna(value=avg_age_male)\n",
    "test_male.astype('int')"
   ]
  },
  {
   "cell_type": "code",
   "execution_count": 38,
   "id": "loaded-think",
   "metadata": {
    "execution": {
     "iopub.execute_input": "2021-07-01T12:06:35.317440Z",
     "iopub.status.busy": "2021-07-01T12:06:35.316699Z",
     "iopub.status.idle": "2021-07-01T12:06:35.334372Z",
     "shell.execute_reply": "2021-07-01T12:06:35.334842Z",
     "shell.execute_reply.started": "2021-07-01T12:02:01.258346Z"
    },
    "papermill": {
     "duration": 0.098825,
     "end_time": "2021-07-01T12:06:35.335019",
     "exception": false,
     "start_time": "2021-07-01T12:06:35.236194",
     "status": "completed"
    },
    "tags": []
   },
   "outputs": [
    {
     "data": {
      "text/html": [
       "<div>\n",
       "<style scoped>\n",
       "    .dataframe tbody tr th:only-of-type {\n",
       "        vertical-align: middle;\n",
       "    }\n",
       "\n",
       "    .dataframe tbody tr th {\n",
       "        vertical-align: top;\n",
       "    }\n",
       "\n",
       "    .dataframe thead th {\n",
       "        text-align: right;\n",
       "    }\n",
       "</style>\n",
       "<table border=\"1\" class=\"dataframe\">\n",
       "  <thead>\n",
       "    <tr style=\"text-align: right;\">\n",
       "      <th></th>\n",
       "      <th>PassengerId</th>\n",
       "      <th>Pclass</th>\n",
       "      <th>Sex</th>\n",
       "      <th>Age</th>\n",
       "      <th>SibSp</th>\n",
       "      <th>Parch</th>\n",
       "    </tr>\n",
       "  </thead>\n",
       "  <tbody>\n",
       "    <tr>\n",
       "      <th>0</th>\n",
       "      <td>892</td>\n",
       "      <td>3</td>\n",
       "      <td>male</td>\n",
       "      <td>34</td>\n",
       "      <td>0</td>\n",
       "      <td>0</td>\n",
       "    </tr>\n",
       "    <tr>\n",
       "      <th>1</th>\n",
       "      <td>893</td>\n",
       "      <td>3</td>\n",
       "      <td>female</td>\n",
       "      <td>47</td>\n",
       "      <td>1</td>\n",
       "      <td>0</td>\n",
       "    </tr>\n",
       "    <tr>\n",
       "      <th>2</th>\n",
       "      <td>894</td>\n",
       "      <td>2</td>\n",
       "      <td>male</td>\n",
       "      <td>62</td>\n",
       "      <td>0</td>\n",
       "      <td>0</td>\n",
       "    </tr>\n",
       "    <tr>\n",
       "      <th>3</th>\n",
       "      <td>895</td>\n",
       "      <td>3</td>\n",
       "      <td>male</td>\n",
       "      <td>27</td>\n",
       "      <td>0</td>\n",
       "      <td>0</td>\n",
       "    </tr>\n",
       "    <tr>\n",
       "      <th>4</th>\n",
       "      <td>896</td>\n",
       "      <td>3</td>\n",
       "      <td>female</td>\n",
       "      <td>22</td>\n",
       "      <td>1</td>\n",
       "      <td>1</td>\n",
       "    </tr>\n",
       "    <tr>\n",
       "      <th>...</th>\n",
       "      <td>...</td>\n",
       "      <td>...</td>\n",
       "      <td>...</td>\n",
       "      <td>...</td>\n",
       "      <td>...</td>\n",
       "      <td>...</td>\n",
       "    </tr>\n",
       "    <tr>\n",
       "      <th>413</th>\n",
       "      <td>1305</td>\n",
       "      <td>3</td>\n",
       "      <td>male</td>\n",
       "      <td>30</td>\n",
       "      <td>0</td>\n",
       "      <td>0</td>\n",
       "    </tr>\n",
       "    <tr>\n",
       "      <th>414</th>\n",
       "      <td>1306</td>\n",
       "      <td>1</td>\n",
       "      <td>female</td>\n",
       "      <td>39</td>\n",
       "      <td>0</td>\n",
       "      <td>0</td>\n",
       "    </tr>\n",
       "    <tr>\n",
       "      <th>415</th>\n",
       "      <td>1307</td>\n",
       "      <td>3</td>\n",
       "      <td>male</td>\n",
       "      <td>38</td>\n",
       "      <td>0</td>\n",
       "      <td>0</td>\n",
       "    </tr>\n",
       "    <tr>\n",
       "      <th>416</th>\n",
       "      <td>1308</td>\n",
       "      <td>3</td>\n",
       "      <td>male</td>\n",
       "      <td>30</td>\n",
       "      <td>0</td>\n",
       "      <td>0</td>\n",
       "    </tr>\n",
       "    <tr>\n",
       "      <th>417</th>\n",
       "      <td>1309</td>\n",
       "      <td>3</td>\n",
       "      <td>male</td>\n",
       "      <td>30</td>\n",
       "      <td>1</td>\n",
       "      <td>1</td>\n",
       "    </tr>\n",
       "  </tbody>\n",
       "</table>\n",
       "<p>418 rows × 6 columns</p>\n",
       "</div>"
      ],
      "text/plain": [
       "     PassengerId  Pclass     Sex  Age  SibSp  Parch\n",
       "0            892       3    male   34      0      0\n",
       "1            893       3  female   47      1      0\n",
       "2            894       2    male   62      0      0\n",
       "3            895       3    male   27      0      0\n",
       "4            896       3  female   22      1      1\n",
       "..           ...     ...     ...  ...    ...    ...\n",
       "413         1305       3    male   30      0      0\n",
       "414         1306       1  female   39      0      0\n",
       "415         1307       3    male   38      0      0\n",
       "416         1308       3    male   30      0      0\n",
       "417         1309       3    male   30      1      1\n",
       "\n",
       "[418 rows x 6 columns]"
      ]
     },
     "execution_count": 38,
     "metadata": {},
     "output_type": "execute_result"
    }
   ],
   "source": [
    "test[\"Age\"] = pd.concat([test_female, test_male])\n",
    "test[\"Age\"] = test[\"Age\"].astype('int')\n",
    "test"
   ]
  },
  {
   "cell_type": "code",
   "execution_count": 39,
   "id": "conventional-decrease",
   "metadata": {
    "execution": {
     "iopub.execute_input": "2021-07-01T12:06:35.494642Z",
     "iopub.status.busy": "2021-07-01T12:06:35.493541Z",
     "iopub.status.idle": "2021-07-01T12:06:35.513574Z",
     "shell.execute_reply": "2021-07-01T12:06:35.513004Z",
     "shell.execute_reply.started": "2021-07-01T12:02:01.292033Z"
    },
    "papermill": {
     "duration": 0.099552,
     "end_time": "2021-07-01T12:06:35.513719",
     "exception": false,
     "start_time": "2021-07-01T12:06:35.414167",
     "status": "completed"
    },
    "tags": []
   },
   "outputs": [
    {
     "data": {
      "text/html": [
       "<div>\n",
       "<style scoped>\n",
       "    .dataframe tbody tr th:only-of-type {\n",
       "        vertical-align: middle;\n",
       "    }\n",
       "\n",
       "    .dataframe tbody tr th {\n",
       "        vertical-align: top;\n",
       "    }\n",
       "\n",
       "    .dataframe thead th {\n",
       "        text-align: right;\n",
       "    }\n",
       "</style>\n",
       "<table border=\"1\" class=\"dataframe\">\n",
       "  <thead>\n",
       "    <tr style=\"text-align: right;\">\n",
       "      <th></th>\n",
       "      <th>PassengerId</th>\n",
       "      <th>Pclass</th>\n",
       "      <th>Age</th>\n",
       "      <th>SibSp</th>\n",
       "      <th>Parch</th>\n",
       "      <th>Sex_female</th>\n",
       "      <th>Sex_male</th>\n",
       "    </tr>\n",
       "  </thead>\n",
       "  <tbody>\n",
       "    <tr>\n",
       "      <th>0</th>\n",
       "      <td>892</td>\n",
       "      <td>3</td>\n",
       "      <td>34</td>\n",
       "      <td>0</td>\n",
       "      <td>0</td>\n",
       "      <td>0</td>\n",
       "      <td>1</td>\n",
       "    </tr>\n",
       "    <tr>\n",
       "      <th>1</th>\n",
       "      <td>893</td>\n",
       "      <td>3</td>\n",
       "      <td>47</td>\n",
       "      <td>1</td>\n",
       "      <td>0</td>\n",
       "      <td>1</td>\n",
       "      <td>0</td>\n",
       "    </tr>\n",
       "    <tr>\n",
       "      <th>2</th>\n",
       "      <td>894</td>\n",
       "      <td>2</td>\n",
       "      <td>62</td>\n",
       "      <td>0</td>\n",
       "      <td>0</td>\n",
       "      <td>0</td>\n",
       "      <td>1</td>\n",
       "    </tr>\n",
       "    <tr>\n",
       "      <th>3</th>\n",
       "      <td>895</td>\n",
       "      <td>3</td>\n",
       "      <td>27</td>\n",
       "      <td>0</td>\n",
       "      <td>0</td>\n",
       "      <td>0</td>\n",
       "      <td>1</td>\n",
       "    </tr>\n",
       "    <tr>\n",
       "      <th>4</th>\n",
       "      <td>896</td>\n",
       "      <td>3</td>\n",
       "      <td>22</td>\n",
       "      <td>1</td>\n",
       "      <td>1</td>\n",
       "      <td>1</td>\n",
       "      <td>0</td>\n",
       "    </tr>\n",
       "    <tr>\n",
       "      <th>...</th>\n",
       "      <td>...</td>\n",
       "      <td>...</td>\n",
       "      <td>...</td>\n",
       "      <td>...</td>\n",
       "      <td>...</td>\n",
       "      <td>...</td>\n",
       "      <td>...</td>\n",
       "    </tr>\n",
       "    <tr>\n",
       "      <th>413</th>\n",
       "      <td>1305</td>\n",
       "      <td>3</td>\n",
       "      <td>30</td>\n",
       "      <td>0</td>\n",
       "      <td>0</td>\n",
       "      <td>0</td>\n",
       "      <td>1</td>\n",
       "    </tr>\n",
       "    <tr>\n",
       "      <th>414</th>\n",
       "      <td>1306</td>\n",
       "      <td>1</td>\n",
       "      <td>39</td>\n",
       "      <td>0</td>\n",
       "      <td>0</td>\n",
       "      <td>1</td>\n",
       "      <td>0</td>\n",
       "    </tr>\n",
       "    <tr>\n",
       "      <th>415</th>\n",
       "      <td>1307</td>\n",
       "      <td>3</td>\n",
       "      <td>38</td>\n",
       "      <td>0</td>\n",
       "      <td>0</td>\n",
       "      <td>0</td>\n",
       "      <td>1</td>\n",
       "    </tr>\n",
       "    <tr>\n",
       "      <th>416</th>\n",
       "      <td>1308</td>\n",
       "      <td>3</td>\n",
       "      <td>30</td>\n",
       "      <td>0</td>\n",
       "      <td>0</td>\n",
       "      <td>0</td>\n",
       "      <td>1</td>\n",
       "    </tr>\n",
       "    <tr>\n",
       "      <th>417</th>\n",
       "      <td>1309</td>\n",
       "      <td>3</td>\n",
       "      <td>30</td>\n",
       "      <td>1</td>\n",
       "      <td>1</td>\n",
       "      <td>0</td>\n",
       "      <td>1</td>\n",
       "    </tr>\n",
       "  </tbody>\n",
       "</table>\n",
       "<p>418 rows × 7 columns</p>\n",
       "</div>"
      ],
      "text/plain": [
       "     PassengerId  Pclass  Age  SibSp  Parch  Sex_female  Sex_male\n",
       "0            892       3   34      0      0           0         1\n",
       "1            893       3   47      1      0           1         0\n",
       "2            894       2   62      0      0           0         1\n",
       "3            895       3   27      0      0           0         1\n",
       "4            896       3   22      1      1           1         0\n",
       "..           ...     ...  ...    ...    ...         ...       ...\n",
       "413         1305       3   30      0      0           0         1\n",
       "414         1306       1   39      0      0           1         0\n",
       "415         1307       3   38      0      0           0         1\n",
       "416         1308       3   30      0      0           0         1\n",
       "417         1309       3   30      1      1           0         1\n",
       "\n",
       "[418 rows x 7 columns]"
      ]
     },
     "execution_count": 39,
     "metadata": {},
     "output_type": "execute_result"
    }
   ],
   "source": [
    "test_encoded = pd.get_dummies(test)\n",
    "test_encoded\n"
   ]
  },
  {
   "cell_type": "code",
   "execution_count": 40,
   "id": "effective-basic",
   "metadata": {
    "execution": {
     "iopub.execute_input": "2021-07-01T12:06:35.672292Z",
     "iopub.status.busy": "2021-07-01T12:06:35.671531Z",
     "iopub.status.idle": "2021-07-01T12:06:35.678955Z",
     "shell.execute_reply": "2021-07-01T12:06:35.679466Z",
     "shell.execute_reply.started": "2021-07-01T12:02:01.329919Z"
    },
    "papermill": {
     "duration": 0.087298,
     "end_time": "2021-07-01T12:06:35.679656",
     "exception": false,
     "start_time": "2021-07-01T12:06:35.592358",
     "status": "completed"
    },
    "tags": []
   },
   "outputs": [
    {
     "data": {
      "text/plain": [
       "(418, 7)"
      ]
     },
     "execution_count": 40,
     "metadata": {},
     "output_type": "execute_result"
    }
   ],
   "source": [
    "test = scaler.transform(test_encoded)\n",
    "test.shape"
   ]
  },
  {
   "cell_type": "markdown",
   "id": "electoral-inspection",
   "metadata": {
    "papermill": {
     "duration": 0.07571,
     "end_time": "2021-07-01T12:06:35.834721",
     "exception": false,
     "start_time": "2021-07-01T12:06:35.759011",
     "status": "completed"
    },
    "tags": []
   },
   "source": [
    "# Evaluate test data"
   ]
  },
  {
   "cell_type": "code",
   "execution_count": 41,
   "id": "occupied-constant",
   "metadata": {
    "execution": {
     "iopub.execute_input": "2021-07-01T12:06:35.992881Z",
     "iopub.status.busy": "2021-07-01T12:06:35.992174Z",
     "iopub.status.idle": "2021-07-01T12:06:36.038021Z",
     "shell.execute_reply": "2021-07-01T12:06:36.037444Z",
     "shell.execute_reply.started": "2021-07-01T12:02:01.349494Z"
    },
    "papermill": {
     "duration": 0.127671,
     "end_time": "2021-07-01T12:06:36.038162",
     "exception": false,
     "start_time": "2021-07-01T12:06:35.910491",
     "status": "completed"
    },
    "tags": []
   },
   "outputs": [
    {
     "data": {
      "text/plain": [
       "array([0, 1, 0, 0, 1, 0, 1, 0, 1, 0, 0, 0, 1, 0, 1, 1, 0, 0, 1, 1, 0, 1,\n",
       "       1, 0, 1, 0, 1, 0, 0, 0, 0, 0, 0, 0, 0, 0, 1, 1, 0, 0, 0, 0, 0, 1,\n",
       "       1, 0, 0, 0, 1, 0, 0, 0, 1, 1, 0, 0, 0, 0, 0, 1, 0, 0, 0, 1, 1, 1,\n",
       "       1, 0, 0, 1, 1, 0, 1, 0, 1, 0, 0, 1, 0, 1, 1, 0, 0, 0, 0, 0, 1, 1,\n",
       "       1, 1, 1, 0, 1, 0, 0, 0, 1, 0, 1, 0, 1, 0, 0, 0, 1, 0, 0, 0, 0, 0,\n",
       "       0, 1, 1, 1, 1, 0, 0, 1, 0, 1, 1, 0, 1, 0, 0, 1, 0, 0, 0, 0, 0, 0,\n",
       "       0, 0, 0, 0, 0, 0, 1, 0, 0, 1, 0, 0, 0, 0, 0, 0, 0, 0, 1, 0, 0, 0,\n",
       "       0, 0, 1, 1, 0, 1, 1, 0, 1, 0, 0, 1, 0, 0, 1, 1, 0, 0, 0, 0, 0, 1,\n",
       "       1, 0, 1, 1, 0, 0, 1, 0, 1, 0, 1, 0, 0, 0, 0, 0, 0, 0, 1, 0, 1, 1,\n",
       "       0, 1, 1, 1, 0, 1, 0, 0, 1, 0, 1, 0, 0, 0, 0, 1, 0, 0, 1, 0, 1, 0,\n",
       "       1, 0, 1, 0, 1, 1, 0, 1, 0, 0, 0, 1, 0, 0, 0, 0, 0, 0, 1, 1, 1, 1,\n",
       "       0, 0, 0, 0, 1, 0, 1, 1, 1, 0, 0, 0, 0, 0, 0, 0, 1, 0, 0, 0, 1, 1,\n",
       "       0, 0, 0, 0, 1, 0, 0, 0, 1, 1, 0, 1, 0, 0, 0, 0, 1, 1, 1, 1, 1, 0,\n",
       "       0, 0, 0, 0, 0, 1, 0, 0, 0, 0, 1, 0, 0, 0, 0, 0, 0, 0, 1, 1, 0, 1,\n",
       "       0, 0, 0, 0, 0, 1, 1, 1, 0, 0, 0, 0, 0, 0, 0, 0, 1, 0, 1, 0, 0, 0,\n",
       "       1, 0, 0, 1, 0, 0, 0, 0, 0, 0, 0, 0, 0, 1, 0, 1, 0, 1, 0, 1, 1, 0,\n",
       "       0, 0, 1, 0, 1, 0, 0, 1, 0, 1, 1, 0, 1, 0, 0, 1, 1, 0, 0, 1, 0, 0,\n",
       "       1, 1, 0, 0, 0, 0, 0, 0, 1, 1, 0, 1, 0, 0, 0, 0, 0, 1, 1, 0, 0, 1,\n",
       "       0, 1, 0, 0, 1, 0, 1, 0, 0, 0, 0, 0, 1, 1, 1, 1, 1, 0, 1, 0, 0, 0])"
      ]
     },
     "execution_count": 41,
     "metadata": {},
     "output_type": "execute_result"
    }
   ],
   "source": [
    "model.fit(X, y)\n",
    "target = model.predict(test)\n",
    "target"
   ]
  },
  {
   "cell_type": "markdown",
   "id": "agricultural-stuart",
   "metadata": {
    "papermill": {
     "duration": 0.080791,
     "end_time": "2021-07-01T12:06:36.198803",
     "exception": false,
     "start_time": "2021-07-01T12:06:36.118012",
     "status": "completed"
    },
    "tags": []
   },
   "source": [
    "# Target prediction"
   ]
  },
  {
   "cell_type": "code",
   "execution_count": 42,
   "id": "intense-agency",
   "metadata": {
    "execution": {
     "iopub.execute_input": "2021-07-01T12:06:36.363185Z",
     "iopub.status.busy": "2021-07-01T12:06:36.362234Z",
     "iopub.status.idle": "2021-07-01T12:06:36.366043Z",
     "shell.execute_reply": "2021-07-01T12:06:36.366486Z",
     "shell.execute_reply.started": "2021-07-01T12:02:01.408236Z"
    },
    "papermill": {
     "duration": 0.091568,
     "end_time": "2021-07-01T12:06:36.366659",
     "exception": false,
     "start_time": "2021-07-01T12:06:36.275091",
     "status": "completed"
    },
    "tags": []
   },
   "outputs": [
    {
     "data": {
      "text/html": [
       "<div>\n",
       "<style scoped>\n",
       "    .dataframe tbody tr th:only-of-type {\n",
       "        vertical-align: middle;\n",
       "    }\n",
       "\n",
       "    .dataframe tbody tr th {\n",
       "        vertical-align: top;\n",
       "    }\n",
       "\n",
       "    .dataframe thead th {\n",
       "        text-align: right;\n",
       "    }\n",
       "</style>\n",
       "<table border=\"1\" class=\"dataframe\">\n",
       "  <thead>\n",
       "    <tr style=\"text-align: right;\">\n",
       "      <th></th>\n",
       "      <th>Survived</th>\n",
       "    </tr>\n",
       "  </thead>\n",
       "  <tbody>\n",
       "    <tr>\n",
       "      <th>0</th>\n",
       "      <td>0</td>\n",
       "    </tr>\n",
       "    <tr>\n",
       "      <th>1</th>\n",
       "      <td>1</td>\n",
       "    </tr>\n",
       "    <tr>\n",
       "      <th>2</th>\n",
       "      <td>0</td>\n",
       "    </tr>\n",
       "    <tr>\n",
       "      <th>3</th>\n",
       "      <td>0</td>\n",
       "    </tr>\n",
       "    <tr>\n",
       "      <th>4</th>\n",
       "      <td>1</td>\n",
       "    </tr>\n",
       "    <tr>\n",
       "      <th>...</th>\n",
       "      <td>...</td>\n",
       "    </tr>\n",
       "    <tr>\n",
       "      <th>413</th>\n",
       "      <td>0</td>\n",
       "    </tr>\n",
       "    <tr>\n",
       "      <th>414</th>\n",
       "      <td>1</td>\n",
       "    </tr>\n",
       "    <tr>\n",
       "      <th>415</th>\n",
       "      <td>0</td>\n",
       "    </tr>\n",
       "    <tr>\n",
       "      <th>416</th>\n",
       "      <td>0</td>\n",
       "    </tr>\n",
       "    <tr>\n",
       "      <th>417</th>\n",
       "      <td>0</td>\n",
       "    </tr>\n",
       "  </tbody>\n",
       "</table>\n",
       "<p>418 rows × 1 columns</p>\n",
       "</div>"
      ],
      "text/plain": [
       "     Survived\n",
       "0           0\n",
       "1           1\n",
       "2           0\n",
       "3           0\n",
       "4           1\n",
       "..        ...\n",
       "413         0\n",
       "414         1\n",
       "415         0\n",
       "416         0\n",
       "417         0\n",
       "\n",
       "[418 rows x 1 columns]"
      ]
     },
     "execution_count": 42,
     "metadata": {},
     "output_type": "execute_result"
    }
   ],
   "source": [
    "df = pd.DataFrame(np.array(target), columns=[\"Survived\"])\n",
    "df"
   ]
  },
  {
   "cell_type": "code",
   "execution_count": 43,
   "id": "bacterial-equilibrium",
   "metadata": {
    "execution": {
     "iopub.execute_input": "2021-07-01T12:06:36.528864Z",
     "iopub.status.busy": "2021-07-01T12:06:36.527895Z",
     "iopub.status.idle": "2021-07-01T12:06:36.542467Z",
     "shell.execute_reply": "2021-07-01T12:06:36.542991Z",
     "shell.execute_reply.started": "2021-07-01T12:02:01.425233Z"
    },
    "papermill": {
     "duration": 0.0961,
     "end_time": "2021-07-01T12:06:36.543185",
     "exception": false,
     "start_time": "2021-07-01T12:06:36.447085",
     "status": "completed"
    },
    "tags": []
   },
   "outputs": [],
   "source": [
    "gendersubmission = pd.read_csv(\"../input/titanic/gender_submission.csv\")"
   ]
  },
  {
   "cell_type": "code",
   "execution_count": 44,
   "id": "frozen-expression",
   "metadata": {
    "execution": {
     "iopub.execute_input": "2021-07-01T12:06:36.701393Z",
     "iopub.status.busy": "2021-07-01T12:06:36.700417Z",
     "iopub.status.idle": "2021-07-01T12:06:36.714184Z",
     "shell.execute_reply": "2021-07-01T12:06:36.714638Z",
     "shell.execute_reply.started": "2021-07-01T12:02:01.448211Z"
    },
    "papermill": {
     "duration": 0.093683,
     "end_time": "2021-07-01T12:06:36.714828",
     "exception": false,
     "start_time": "2021-07-01T12:06:36.621145",
     "status": "completed"
    },
    "tags": []
   },
   "outputs": [
    {
     "data": {
      "text/html": [
       "<div>\n",
       "<style scoped>\n",
       "    .dataframe tbody tr th:only-of-type {\n",
       "        vertical-align: middle;\n",
       "    }\n",
       "\n",
       "    .dataframe tbody tr th {\n",
       "        vertical-align: top;\n",
       "    }\n",
       "\n",
       "    .dataframe thead th {\n",
       "        text-align: right;\n",
       "    }\n",
       "</style>\n",
       "<table border=\"1\" class=\"dataframe\">\n",
       "  <thead>\n",
       "    <tr style=\"text-align: right;\">\n",
       "      <th></th>\n",
       "      <th>PassengerId</th>\n",
       "      <th>Survived</th>\n",
       "    </tr>\n",
       "  </thead>\n",
       "  <tbody>\n",
       "    <tr>\n",
       "      <th>0</th>\n",
       "      <td>892</td>\n",
       "      <td>0</td>\n",
       "    </tr>\n",
       "    <tr>\n",
       "      <th>1</th>\n",
       "      <td>893</td>\n",
       "      <td>1</td>\n",
       "    </tr>\n",
       "    <tr>\n",
       "      <th>2</th>\n",
       "      <td>894</td>\n",
       "      <td>0</td>\n",
       "    </tr>\n",
       "    <tr>\n",
       "      <th>3</th>\n",
       "      <td>895</td>\n",
       "      <td>0</td>\n",
       "    </tr>\n",
       "    <tr>\n",
       "      <th>4</th>\n",
       "      <td>896</td>\n",
       "      <td>1</td>\n",
       "    </tr>\n",
       "    <tr>\n",
       "      <th>...</th>\n",
       "      <td>...</td>\n",
       "      <td>...</td>\n",
       "    </tr>\n",
       "    <tr>\n",
       "      <th>413</th>\n",
       "      <td>1305</td>\n",
       "      <td>0</td>\n",
       "    </tr>\n",
       "    <tr>\n",
       "      <th>414</th>\n",
       "      <td>1306</td>\n",
       "      <td>1</td>\n",
       "    </tr>\n",
       "    <tr>\n",
       "      <th>415</th>\n",
       "      <td>1307</td>\n",
       "      <td>0</td>\n",
       "    </tr>\n",
       "    <tr>\n",
       "      <th>416</th>\n",
       "      <td>1308</td>\n",
       "      <td>0</td>\n",
       "    </tr>\n",
       "    <tr>\n",
       "      <th>417</th>\n",
       "      <td>1309</td>\n",
       "      <td>0</td>\n",
       "    </tr>\n",
       "  </tbody>\n",
       "</table>\n",
       "<p>418 rows × 2 columns</p>\n",
       "</div>"
      ],
      "text/plain": [
       "     PassengerId  Survived\n",
       "0            892         0\n",
       "1            893         1\n",
       "2            894         0\n",
       "3            895         0\n",
       "4            896         1\n",
       "..           ...       ...\n",
       "413         1305         0\n",
       "414         1306         1\n",
       "415         1307         0\n",
       "416         1308         0\n",
       "417         1309         0\n",
       "\n",
       "[418 rows x 2 columns]"
      ]
     },
     "execution_count": 44,
     "metadata": {},
     "output_type": "execute_result"
    }
   ],
   "source": [
    "df[[\"PassengerId\"]] = gendersubmission.PassengerId\n",
    "output = df[[\"PassengerId\", \"Survived\", ]]\n",
    "output"
   ]
  },
  {
   "cell_type": "code",
   "execution_count": 45,
   "id": "anticipated-shell",
   "metadata": {
    "execution": {
     "iopub.execute_input": "2021-07-01T12:06:36.878019Z",
     "iopub.status.busy": "2021-07-01T12:06:36.876999Z",
     "iopub.status.idle": "2021-07-01T12:06:36.885384Z",
     "shell.execute_reply": "2021-07-01T12:06:36.885905Z",
     "shell.execute_reply.started": "2021-07-01T12:02:01.468235Z"
    },
    "papermill": {
     "duration": 0.089438,
     "end_time": "2021-07-01T12:06:36.886088",
     "exception": false,
     "start_time": "2021-07-01T12:06:36.796650",
     "status": "completed"
    },
    "tags": []
   },
   "outputs": [],
   "source": [
    "output.to_csv('Submission.csv', index=False)\n"
   ]
  }
 ],
 "metadata": {
  "kernelspec": {
   "display_name": "Python 3",
   "language": "python",
   "name": "python3"
  },
  "language_info": {
   "codemirror_mode": {
    "name": "ipython",
    "version": 3
   },
   "file_extension": ".py",
   "mimetype": "text/x-python",
   "name": "python",
   "nbconvert_exporter": "python",
   "pygments_lexer": "ipython3",
   "version": "3.7.10"
  },
  "papermill": {
   "default_parameters": {},
   "duration": 31.842298,
   "end_time": "2021-07-01T12:06:37.873580",
   "environment_variables": {},
   "exception": null,
   "input_path": "__notebook__.ipynb",
   "output_path": "__notebook__.ipynb",
   "parameters": {},
   "start_time": "2021-07-01T12:06:06.031282",
   "version": "2.3.3"
  }
 },
 "nbformat": 4,
 "nbformat_minor": 5
}
